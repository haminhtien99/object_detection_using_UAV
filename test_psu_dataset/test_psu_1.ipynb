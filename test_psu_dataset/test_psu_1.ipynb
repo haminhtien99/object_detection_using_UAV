{
  "nbformat": 4,
  "nbformat_minor": 0,
  "metadata": {
    "colab": {
      "provenance": [],
      "include_colab_link": true
    },
    "kernelspec": {
      "name": "python3",
      "display_name": "Python 3"
    },
    "language_info": {
      "name": "python"
    },
    "accelerator": "GPU",
    "gpuClass": "standard"
  },
  "cells": [
    {
      "cell_type": "markdown",
      "metadata": {
        "id": "view-in-github",
        "colab_type": "text"
      },
      "source": [
        "<a href=\"https://colab.research.google.com/github/haminhtien99/oobject_detection_using_UAV/blob/main/test_psu_1.ipynb\" target=\"_parent\"><img src=\"https://colab.research.google.com/assets/colab-badge.svg\" alt=\"Open In Colab\"/></a>"
      ]
    },
    {
      "cell_type": "markdown",
      "source": [
        "### Train yolov7 with psu-car-dataset"
      ],
      "metadata": {
        "id": "sy_pQtSRK0yf"
      }
    },
    {
      "cell_type": "code",
      "source": [
        "from google.colab import drive\n",
        "drive.mount('/content/drive')"
      ],
      "metadata": {
        "colab": {
          "base_uri": "https://localhost:8080/"
        },
        "id": "9wfQDL2bxFJH",
        "outputId": "969690a8-3e15-4ddb-dce2-8fffa2be33ca"
      },
      "execution_count": 1,
      "outputs": [
        {
          "output_type": "stream",
          "name": "stdout",
          "text": [
            "Mounted at /content/drive\n"
          ]
        }
      ]
    },
    {
      "cell_type": "code",
      "source": [
        "%cd /content/drive/MyDrive/mipt/Nir/yolov7_train/train_data"
      ],
      "metadata": {
        "id": "jlQlt76LK0lZ",
        "colab": {
          "base_uri": "https://localhost:8080/"
        },
        "outputId": "0d27d88c-c851-4e01-b787-f1691f9fabbe"
      },
      "execution_count": 4,
      "outputs": [
        {
          "output_type": "stream",
          "name": "stdout",
          "text": [
            "/content/drive/MyDrive/mipt/Nir/yolov7_train/train_data\n"
          ]
        }
      ]
    },
    {
      "cell_type": "code",
      "source": [
        "!git clone https://github.com/aniskoubaa/psu-car-dataset"
      ],
      "metadata": {
        "colab": {
          "base_uri": "https://localhost:8080/"
        },
        "id": "MtEc2O8ibla5",
        "outputId": "2628d5ac-7a5d-4994-a5c3-57f93bb4251e"
      },
      "execution_count": 5,
      "outputs": [
        {
          "output_type": "stream",
          "name": "stdout",
          "text": [
            "Cloning into 'psu-car-dataset'...\n",
            "remote: Enumerating objects: 567, done.\u001b[K\n",
            "remote: Counting objects: 100% (11/11), done.\u001b[K\n",
            "remote: Compressing objects: 100% (11/11), done.\u001b[K\n",
            "remote: Total 567 (delta 2), reused 0 (delta 0), pack-reused 556\u001b[K\n",
            "Receiving objects: 100% (567/567), 129.50 MiB | 21.78 MiB/s, done.\n",
            "Resolving deltas: 100% (276/276), done.\n",
            "Updating files: 100% (541/541), done.\n"
          ]
        }
      ]
    },
    {
      "cell_type": "markdown",
      "source": [
        "Convert .xml into .txt"
      ],
      "metadata": {
        "id": "fnK8io4IzTTc"
      }
    },
    {
      "cell_type": "code",
      "source": [
        "%cd /content/drive/MyDrive/mipt/Nir/yolov7_train/Scripts\n",
        "!python voc_label_generation_from_xml_annotation.py"
      ],
      "metadata": {
        "colab": {
          "base_uri": "https://localhost:8080/"
        },
        "id": "DGvllblveK8U",
        "outputId": "045bf48d-07de-4b84-aeeb-54ab26bbed6e"
      },
      "execution_count": 8,
      "outputs": [
        {
          "output_type": "stream",
          "name": "stdout",
          "text": [
            "/content/drive/MyDrive/mipt/Nir/yolov7_train/Scripts\n",
            "Finished processing: /content/drive/MyDrive/mipt/Nir/yolov7_train/train_data/psu-car-dataset/train\n",
            "Finished processing: /content/drive/MyDrive/mipt/Nir/yolov7_train/train_data/psu-car-dataset/test\n"
          ]
        }
      ]
    },
    {
      "cell_type": "markdown",
      "source": [
        "Реорганизовать каталог для выполнения программы обучения train_data for yolov7\n",
        "\n",
        "\n",
        "\n",
        "1.   train\n",
        "\n",
        "\n",
        "*   images -- file .jpg\n",
        "\n",
        "*   labels -- file .txt\n",
        "\n",
        "*   annotations -- file.xml\n",
        "\n",
        "\n",
        "\n",
        "\n",
        "2.   test\n",
        "\n",
        "*   images -- file .jpg\n",
        "\n",
        "*   labels -- file .txt\n",
        "\n",
        "*   annotations -- file.xml\n"
      ],
      "metadata": {
        "id": "-ML1mohUkprg"
      }
    },
    {
      "cell_type": "code",
      "source": [
        "%cd /content/drive/MyDrive/mipt/Nir/yolov7_train/train_data/psu-car-dataset/train\n",
        "!mkdir images\n",
        "!mv *.jpg images\n",
        "!mkdir annotations\n",
        "!mv *.xml annotations"
      ],
      "metadata": {
        "colab": {
          "base_uri": "https://localhost:8080/"
        },
        "id": "HVSkiJIVCxSJ",
        "outputId": "f9b96cb9-9621-4644-e2e9-367c0e353b68"
      },
      "execution_count": 13,
      "outputs": [
        {
          "output_type": "stream",
          "name": "stdout",
          "text": [
            "/content/drive/MyDrive/mipt/Nir/yolov7_train/train_data/psu-car-dataset/train\n"
          ]
        }
      ]
    },
    {
      "cell_type": "code",
      "source": [
        "%cd /content/drive/MyDrive/mipt/Nir/yolov7_train/train_data/psu-car-dataset/test\n",
        "!mkdir images\n",
        "!mv *.jpg images\n",
        "!mkdir annotations\n",
        "!mv *.xml annotations"
      ],
      "metadata": {
        "colab": {
          "base_uri": "https://localhost:8080/"
        },
        "id": "H818ZyT2kPVK",
        "outputId": "b40ee7b2-c8f6-48c2-ac1e-fbb66fc7c9d2"
      },
      "execution_count": 14,
      "outputs": [
        {
          "output_type": "stream",
          "name": "stdout",
          "text": [
            "/content/drive/MyDrive/mipt/Nir/yolov7_train/train_data/psu-car-dataset/test\n"
          ]
        }
      ]
    },
    {
      "cell_type": "code",
      "source": [
        "%cd /content/drive/MyDrive/mipt/Nir/yolov7_train/yolov7\n",
        "!rm data/mydataset.yaml\n",
        "!echo 'train: /content/drive/MyDrive/mipt/Nir/yolov7_train/train_data/psu-car-dataset/train' >> data/mydataset.yaml\n",
        "!echo 'val: /content/drive/MyDrive/mipt/Nir/yolov7_train/train_data/psu-car-dataset/test' >> data/mydataset.yaml\n",
        "!echo 'nc: 1' >> data/mydataset.yaml\n",
        "!echo \"names: ['car']\" >> data/mydataset.yaml"
      ],
      "metadata": {
        "colab": {
          "base_uri": "https://localhost:8080/"
        },
        "id": "RCGhla7rlm9U",
        "outputId": "a009c82b-3352-493a-d8dd-fbbd77ab29da"
      },
      "execution_count": 15,
      "outputs": [
        {
          "output_type": "stream",
          "name": "stdout",
          "text": [
            "/content/drive/MyDrive/mipt/Nir/yolov7_train/yolov7\n"
          ]
        }
      ]
    },
    {
      "cell_type": "markdown",
      "source": [
        "80 epochs"
      ],
      "metadata": {
        "id": "xPzfJ2bD1cQf"
      }
    },
    {
      "cell_type": "code",
      "source": [
        "%cd /content/drive/MyDrive/mipt/Nir/yolov7_train/yolov7\n",
        "!python train.py --batch 8 --cfg cfg/training/yolov7.yaml --epochs 40 --data data/mydataset.yaml --weights '/content/drive/MyDrive/mipt/Nir/yolov7_train/yolov7/runs/train/exp21/weights/best.pt'"
      ],
      "metadata": {
        "colab": {
          "base_uri": "https://localhost:8080/"
        },
        "id": "aFwdlRWdlW62",
        "outputId": "844896c8-6569-4bb8-fc27-4e79e505e579"
      },
      "execution_count": 20,
      "outputs": [
        {
          "output_type": "stream",
          "name": "stdout",
          "text": [
            "     36/39     7.41G   0.05715   0.02363         0   0.08078        58       640: 100% 28/28 [00:43<00:00,  1.54s/it]\n",
            "               Class      Images      Labels           P           R      mAP@.5  mAP@.5:.95: 100% 4/4 [00:02<00:00,  1.70it/s]\n",
            "                 all          52         738       0.405       0.411       0.315      0.0909\n",
            "\n",
            "     Epoch   gpu_mem       box       obj       cls     total    labels  img_size\n",
            "     37/39     7.41G   0.05722   0.02198         0    0.0792       118       640: 100% 28/28 [00:41<00:00,  1.48s/it]\n",
            "               Class      Images      Labels           P           R      mAP@.5  mAP@.5:.95: 100% 4/4 [00:01<00:00,  2.68it/s]\n",
            "                 all          52         738       0.385       0.409       0.296      0.0933\n",
            "\n",
            "     Epoch   gpu_mem       box       obj       cls     total    labels  img_size\n",
            "     38/39     7.41G   0.05699   0.02305         0   0.08005        59       640: 100% 28/28 [00:40<00:00,  1.46s/it]\n",
            "               Class      Images      Labels           P           R      mAP@.5  mAP@.5:.95: 100% 4/4 [00:01<00:00,  2.08it/s]\n",
            "                 all          52         738       0.395       0.383       0.318      0.0974\n",
            "\n",
            "     Epoch   gpu_mem       box       obj       cls     total    labels  img_size\n",
            "     39/39     7.41G   0.05504   0.02334         0   0.07838        57       640: 100% 28/28 [00:41<00:00,  1.49s/it]\n",
            "               Class      Images      Labels           P           R      mAP@.5  mAP@.5:.95: 100% 4/4 [00:04<00:00,  1.21s/it]\n",
            "                 all          52         738       0.424       0.371       0.312        0.09\n",
            "40 epochs completed in 0.548 hours.\n",
            "\n",
            "Optimizer stripped from runs/train/exp22/weights/last.pt, 74.8MB\n",
            "Optimizer stripped from runs/train/exp22/weights/best.pt, 74.8MB\n"
          ]
        }
      ]
    },
    {
      "cell_type": "code",
      "source": [],
      "metadata": {
        "id": "bVHDDmvxlmeW"
      },
      "execution_count": null,
      "outputs": []
    }
  ]
}
