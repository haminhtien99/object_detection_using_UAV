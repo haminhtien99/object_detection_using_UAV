{
  "nbformat": 4,
  "nbformat_minor": 0,
  "metadata": {
    "colab": {
      "provenance": [],
      "include_colab_link": true
    },
    "kernelspec": {
      "name": "python3",
      "display_name": "Python 3"
    },
    "language_info": {
      "name": "python"
    },
    "accelerator": "GPU",
    "gpuClass": "standard"
  },
  "cells": [
    {
      "cell_type": "markdown",
      "metadata": {
        "id": "view-in-github",
        "colab_type": "text"
      },
      "source": [
        "<a href=\"https://colab.research.google.com/github/haminhtien99/oobject_detection_using_UAV/blob/main/test_psu_2.ipynb\" target=\"_parent\"><img src=\"https://colab.research.google.com/assets/colab-badge.svg\" alt=\"Open In Colab\"/></a>"
      ]
    },
    {
      "cell_type": "markdown",
      "source": [
        "### Train yolov7 with psu-car-dataset"
      ],
      "metadata": {
        "id": "sy_pQtSRK0yf"
      }
    },
    {
      "cell_type": "code",
      "source": [
        "from google.colab import drive\n",
        "drive.mount('/content/drive')"
      ],
      "metadata": {
        "colab": {
          "base_uri": "https://localhost:8080/"
        },
        "id": "9wfQDL2bxFJH",
        "outputId": "efa9f4bb-5144-46a3-9ade-d2296a9968b0"
      },
      "execution_count": 1,
      "outputs": [
        {
          "output_type": "stream",
          "name": "stdout",
          "text": [
            "Mounted at /content/drive\n"
          ]
        }
      ]
    },
    {
      "cell_type": "markdown",
      "source": [
        "80 epochs"
      ],
      "metadata": {
        "id": "xPzfJ2bD1cQf"
      }
    },
    {
      "cell_type": "code",
      "source": [
        "%cd /content/drive/MyDrive/mipt/Nir/yolov7_train/yolov7\n",
        "!python train.py --batch 8 --cfg cfg/training/yolov7.yaml --epochs 100 --data data/mydataset.yaml --weights '/content/drive/MyDrive/mipt/Nir/yolov7_train/yolov7/runs/train/exp22/weights/best.pt'"
      ],
      "metadata": {
        "colab": {
          "base_uri": "https://localhost:8080/"
        },
        "id": "aFwdlRWdlW62",
        "outputId": "f739f2e8-a44a-4c11-adee-45fb0abf3e16"
      },
      "execution_count": 3,
      "outputs": [
        {
          "output_type": "stream",
          "name": "stdout",
          "text": [
            "     86/99     7.42G   0.04407   0.02182         0   0.06589        42       640: 100% 28/28 [00:48<00:00,  1.72s/it]\n",
            "               Class      Images      Labels           P           R      mAP@.5  mAP@.5:.95: 100% 4/4 [00:02<00:00,  1.86it/s]\n",
            "                 all          52         738        0.76       0.715       0.778       0.346\n",
            "\n",
            "     Epoch   gpu_mem       box       obj       cls     total    labels  img_size\n",
            "     87/99     7.42G   0.04299   0.02144         0   0.06443        33       640: 100% 28/28 [00:46<00:00,  1.65s/it]\n",
            "               Class      Images      Labels           P           R      mAP@.5  mAP@.5:.95: 100% 4/4 [00:01<00:00,  2.66it/s]\n",
            "                 all          52         738       0.767       0.699       0.765       0.339\n",
            "\n",
            "     Epoch   gpu_mem       box       obj       cls     total    labels  img_size\n",
            "     88/99     7.42G    0.0421   0.02061         0   0.06271        32       640: 100% 28/28 [00:44<00:00,  1.58s/it]\n",
            "               Class      Images      Labels           P           R      mAP@.5  mAP@.5:.95: 100% 4/4 [00:02<00:00,  1.59it/s]\n",
            "                 all          52         738       0.792       0.692        0.77       0.332\n",
            "\n",
            "     Epoch   gpu_mem       box       obj       cls     total    labels  img_size\n",
            "     89/99     7.42G   0.04622   0.02055         0   0.06678        14       640: 100% 28/28 [00:45<00:00,  1.61s/it]\n",
            "               Class      Images      Labels           P           R      mAP@.5  mAP@.5:.95: 100% 4/4 [00:01<00:00,  2.60it/s]\n",
            "                 all          52         738       0.794       0.734       0.799       0.345\n",
            "\n",
            "     Epoch   gpu_mem       box       obj       cls     total    labels  img_size\n",
            "     90/99     7.42G   0.03563   0.01946         0   0.05508         2       640: 100% 28/28 [00:49<00:00,  1.76s/it]\n",
            "               Class      Images      Labels           P           R      mAP@.5  mAP@.5:.95: 100% 4/4 [00:01<00:00,  2.39it/s]\n",
            "                 all          52         738       0.794       0.727       0.799       0.364\n",
            "\n",
            "     Epoch   gpu_mem       box       obj       cls     total    labels  img_size\n",
            "     91/99     7.42G   0.04141   0.01867         0   0.06008        66       640: 100% 28/28 [00:43<00:00,  1.54s/it]\n",
            "               Class      Images      Labels           P           R      mAP@.5  mAP@.5:.95: 100% 4/4 [00:01<00:00,  2.48it/s]\n",
            "                 all          52         738        0.76       0.772       0.804        0.37\n",
            "\n",
            "     Epoch   gpu_mem       box       obj       cls     total    labels  img_size\n",
            "     92/99     7.42G    0.0455   0.02267         0   0.06817        93       640: 100% 28/28 [00:48<00:00,  1.75s/it]\n",
            "               Class      Images      Labels           P           R      mAP@.5  mAP@.5:.95: 100% 4/4 [00:01<00:00,  2.66it/s]\n",
            "                 all          52         738       0.799       0.766       0.807       0.371\n",
            "\n",
            "     Epoch   gpu_mem       box       obj       cls     total    labels  img_size\n",
            "     93/99     7.42G   0.03971   0.02193         0   0.06163       134       640: 100% 28/28 [00:45<00:00,  1.63s/it]\n",
            "               Class      Images      Labels           P           R      mAP@.5  mAP@.5:.95: 100% 4/4 [00:01<00:00,  2.57it/s]\n",
            "                 all          52         738        0.82       0.749       0.814       0.373\n",
            "\n",
            "     Epoch   gpu_mem       box       obj       cls     total    labels  img_size\n",
            "     94/99     7.42G   0.03764   0.02059         0   0.05823        41       640: 100% 28/28 [00:42<00:00,  1.50s/it]\n",
            "               Class      Images      Labels           P           R      mAP@.5  mAP@.5:.95: 100% 4/4 [00:01<00:00,  2.55it/s]\n",
            "                 all          52         738       0.806       0.767       0.808       0.363\n",
            "\n",
            "     Epoch   gpu_mem       box       obj       cls     total    labels  img_size\n",
            "     95/99     7.42G   0.04282   0.02084         0   0.06366        78       640: 100% 28/28 [00:48<00:00,  1.74s/it]\n",
            "               Class      Images      Labels           P           R      mAP@.5  mAP@.5:.95: 100% 4/4 [00:01<00:00,  2.58it/s]\n",
            "                 all          52         738       0.809       0.745       0.794       0.345\n",
            "\n",
            "     Epoch   gpu_mem       box       obj       cls     total    labels  img_size\n",
            "     96/99     7.42G    0.0409   0.02214         0   0.06305        35       640: 100% 28/28 [00:46<00:00,  1.67s/it]\n",
            "               Class      Images      Labels           P           R      mAP@.5  mAP@.5:.95: 100% 4/4 [00:02<00:00,  1.66it/s]\n",
            "                 all          52         738       0.829       0.763       0.818       0.372\n",
            "\n",
            "     Epoch   gpu_mem       box       obj       cls     total    labels  img_size\n",
            "     97/99     7.42G   0.04236   0.02058         0   0.06294        85       640: 100% 28/28 [00:43<00:00,  1.55s/it]\n",
            "               Class      Images      Labels           P           R      mAP@.5  mAP@.5:.95: 100% 4/4 [00:01<00:00,  2.64it/s]\n",
            "                 all          52         738       0.831       0.766       0.826       0.384\n",
            "\n",
            "     Epoch   gpu_mem       box       obj       cls     total    labels  img_size\n",
            "     98/99     7.42G   0.04227   0.01964         0    0.0619        46       640: 100% 28/28 [00:45<00:00,  1.64s/it]\n",
            "               Class      Images      Labels           P           R      mAP@.5  mAP@.5:.95: 100% 4/4 [00:01<00:00,  2.55it/s]\n",
            "                 all          52         738       0.859       0.722        0.82       0.382\n",
            "\n",
            "     Epoch   gpu_mem       box       obj       cls     total    labels  img_size\n",
            "     99/99     7.42G   0.04259   0.01985         0   0.06245        43       640: 100% 28/28 [00:45<00:00,  1.62s/it]\n",
            "               Class      Images      Labels           P           R      mAP@.5  mAP@.5:.95: 100% 4/4 [00:06<00:00,  1.70s/it]\n",
            "                 all          52         738       0.807       0.766       0.818       0.382\n",
            "100 epochs completed in 1.429 hours.\n",
            "\n",
            "Optimizer stripped from runs/train/exp24/weights/last.pt, 74.8MB\n",
            "Optimizer stripped from runs/train/exp24/weights/best.pt, 74.8MB\n"
          ]
        }
      ]
    }
  ]
}