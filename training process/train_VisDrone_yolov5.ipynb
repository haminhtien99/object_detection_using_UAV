{
  "nbformat": 4,
  "nbformat_minor": 0,
  "metadata": {
    "colab": {
      "provenance": [],
      "include_colab_link": true
    },
    "kernelspec": {
      "name": "python3",
      "display_name": "Python 3"
    },
    "language_info": {
      "name": "python"
    },
    "accelerator": "GPU",
    "gpuClass": "standard"
  },
  "cells": [
    {
      "cell_type": "markdown",
      "metadata": {
        "id": "view-in-github",
        "colab_type": "text"
      },
      "source": [
        "<a href=\"https://colab.research.google.com/github/haminhtien99/object_detection_using_UAV/blob/main/training%20process/train_VisDrone_yolov5.ipynb\" target=\"_parent\"><img src=\"https://colab.research.google.com/assets/colab-badge.svg\" alt=\"Open In Colab\"/></a>"
      ]
    },
    {
      "cell_type": "markdown",
      "source": [
        "### Train yolov5 with VisDrone"
      ],
      "metadata": {
        "id": "sy_pQtSRK0yf"
      }
    },
    {
      "cell_type": "code",
      "source": [
        "from google.colab import drive\n",
        "drive.mount('/content/drive')"
      ],
      "metadata": {
        "colab": {
          "base_uri": "https://localhost:8080/"
        },
        "id": "9wfQDL2bxFJH",
        "outputId": "b786e2ae-7c3d-46c2-8086-93f9c88b41a5"
      },
      "execution_count": 1,
      "outputs": [
        {
          "output_type": "stream",
          "name": "stdout",
          "text": [
            "Mounted at /content/drive\n"
          ]
        }
      ]
    },
    {
      "cell_type": "markdown",
      "source": [
        "Реорганизовать каталог для выполнения программы обучения train_data for yolo5\n",
        "\n",
        "\n",
        "\n",
        "1.   train\n",
        "\n",
        "\n",
        "*   images -- file .jpg\n",
        "\n",
        "*   labels -- file.txt\n",
        "\n",
        "\n",
        "\n",
        "\n",
        "2.   test\n",
        "\n",
        "*   images -- file .jpg\n",
        "\n",
        "*   labels -- file .txt\n"
      ],
      "metadata": {
        "id": "-ML1mohUkprg"
      }
    },
    {
      "cell_type": "code",
      "source": [
        "%cd /content/drive/MyDrive/mipt/Nir/train/train_data/VisDrone2019-DET/VisDrone2019-DET-train/images\n",
        "!ls | wc -l"
      ],
      "metadata": {
        "id": "qDwP6k1TBXAB",
        "outputId": "c1e4db74-c900-4c94-da60-acb473465b58",
        "colab": {
          "base_uri": "https://localhost:8080/"
        }
      },
      "execution_count": null,
      "outputs": [
        {
          "output_type": "stream",
          "name": "stdout",
          "text": [
            "/content/drive/MyDrive/mipt/Nir/train/train_data/VisDrone2019-DET/VisDrone2019-DET-train/images\n",
            "6471\n"
          ]
        }
      ]
    },
    {
      "cell_type": "code",
      "source": [
        "!cp -r /content/drive/MyDrive/Nir/VisDrone2019-DET /content"
      ],
      "metadata": {
        "id": "3bqDWt2zjtDK"
      },
      "execution_count": 2,
      "outputs": []
    },
    {
      "cell_type": "markdown",
      "source": [
        "10 epochs"
      ],
      "metadata": {
        "id": "xPzfJ2bD1cQf"
      }
    },
    {
      "cell_type": "code",
      "source": [
        "%cd /content/drive/MyDrive/Nir/yolov5\n",
        "!python train.py --img 640 --batch 64 --epochs 10 --data mydataset.yaml --weights yolov5s.pt"
      ],
      "metadata": {
        "id": "dDg_UYVSLdK9",
        "outputId": "79bcad9f-9df9-458c-f750-75f4db0180d1",
        "colab": {
          "base_uri": "https://localhost:8080/"
        }
      },
      "execution_count": 3,
      "outputs": [
        {
          "output_type": "stream",
          "name": "stdout",
          "text": [
            "/content/drive/.shortcut-targets-by-id/1VozEZ7HTE2hHCbxBiMDg9jkbAh1_u7pQ/yolov5\n",
            "\u001b[31m\u001b[1mrequirements:\u001b[0m YOLOv5 requirement \"gitpython\" not found, attempting AutoUpdate...\n",
            "Looking in indexes: https://pypi.org/simple, https://us-python.pkg.dev/colab-wheels/public/simple/\n",
            "Collecting gitpython\n",
            "  Downloading GitPython-3.1.31-py3-none-any.whl (184 kB)\n",
            "     ━━━━━━━━━━━━━━━━━━━━━━━━━━━━━━━━━━━━━━ 184.3/184.3 KB 11.5 MB/s eta 0:00:00\n",
            "Collecting gitdb<5,>=4.0.1\n",
            "  Downloading gitdb-4.0.10-py3-none-any.whl (62 kB)\n",
            "     ━━━━━━━━━━━━━━━━━━━━━━━━━━━━━━━━━━━━━━━━ 62.7/62.7 KB 8.9 MB/s eta 0:00:00\n",
            "Collecting smmap<6,>=3.0.1\n",
            "  Downloading smmap-5.0.0-py3-none-any.whl (24 kB)\n",
            "Installing collected packages: smmap, gitdb, gitpython\n",
            "Successfully installed gitdb-4.0.10 gitpython-3.1.31 smmap-5.0.0\n",
            "\n",
            "\u001b[31m\u001b[1mrequirements:\u001b[0m 1 package updated per ['gitpython']\n",
            "\u001b[31m\u001b[1mrequirements:\u001b[0m ⚠️ \u001b[1mRestart runtime or rerun command for updates to take effect\u001b[0m\n",
            "\n",
            "\u001b[34m\u001b[1mtrain: \u001b[0mweights=yolov5s.pt, cfg=, data=mydataset.yaml, hyp=data/hyps/hyp.scratch-low.yaml, epochs=10, batch_size=64, imgsz=640, rect=False, resume=False, nosave=False, noval=False, noautoanchor=False, noplots=False, evolve=None, bucket=, cache=None, image_weights=False, device=, multi_scale=False, single_cls=False, optimizer=SGD, sync_bn=False, workers=8, project=runs/train, name=exp, exist_ok=False, quad=False, cos_lr=False, label_smoothing=0.0, patience=100, freeze=[0], save_period=-1, seed=0, local_rank=-1, entity=None, upload_dataset=False, bbox_interval=-1, artifact_alias=latest\n",
            "\u001b[34m\u001b[1mgithub: \u001b[0mup to date with https://github.com/ultralytics/yolov5 ✅\n",
            "\u001b[31m\u001b[1mrequirements:\u001b[0m YOLOv5 requirements \"thop>=0.1.1\" \"setuptools>=65.5.1\" not found, attempting AutoUpdate...\n",
            "\u001b[31mERROR: pip's dependency resolver does not currently take into account all the packages that are installed. This behaviour is the source of the following dependency conflicts.\n",
            "ipython 7.9.0 requires jedi>=0.10, which is not installed.\n",
            "cvxpy 1.2.3 requires setuptools<=64.0.2, but you have setuptools 67.5.1 which is incompatible.\u001b[0m\u001b[31m\n",
            "\u001b[0mLooking in indexes: https://pypi.org/simple, https://us-python.pkg.dev/colab-wheels/public/simple/\n",
            "Collecting thop>=0.1.1\n",
            "  Downloading thop-0.1.1.post2209072238-py3-none-any.whl (15 kB)\n",
            "Collecting setuptools>=65.5.1\n",
            "  Downloading setuptools-67.5.1-py3-none-any.whl (1.1 MB)\n",
            "     ━━━━━━━━━━━━━━━━━━━━━━━━━━━━━━━━━━━━━━━━ 1.1/1.1 MB 39.3 MB/s eta 0:00:00\n",
            "Requirement already satisfied: torch in /usr/local/lib/python3.8/dist-packages (from thop>=0.1.1) (1.13.1+cu116)\n",
            "Requirement already satisfied: typing-extensions in /usr/local/lib/python3.8/dist-packages (from torch->thop>=0.1.1) (4.5.0)\n",
            "Installing collected packages: setuptools, thop\n",
            "  Attempting uninstall: setuptools\n",
            "    Found existing installation: setuptools 57.4.0\n",
            "    Uninstalling setuptools-57.4.0:\n",
            "      Successfully uninstalled setuptools-57.4.0\n",
            "Successfully installed setuptools-67.5.1 thop-0.1.1.post2209072238\n",
            "\n",
            "\u001b[31m\u001b[1mrequirements:\u001b[0m 2 packages updated per /content/drive/.shortcut-targets-by-id/1VozEZ7HTE2hHCbxBiMDg9jkbAh1_u7pQ/yolov5/requirements.txt\n",
            "\u001b[31m\u001b[1mrequirements:\u001b[0m ⚠️ \u001b[1mRestart runtime or rerun command for updates to take effect\u001b[0m\n",
            "\n",
            "YOLOv5 🚀 v7.0-116-g5c91dae Python-3.8.10 torch-1.13.1+cu116 CUDA:0 (Tesla T4, 15102MiB)\n",
            "\n",
            "\u001b[34m\u001b[1mhyperparameters: \u001b[0mlr0=0.01, lrf=0.01, momentum=0.937, weight_decay=0.0005, warmup_epochs=3.0, warmup_momentum=0.8, warmup_bias_lr=0.1, box=0.05, cls=0.5, cls_pw=1.0, obj=1.0, obj_pw=1.0, iou_t=0.2, anchor_t=4.0, fl_gamma=0.0, hsv_h=0.015, hsv_s=0.7, hsv_v=0.4, degrees=0.0, translate=0.1, scale=0.5, shear=0.0, perspective=0.0, flipud=0.0, fliplr=0.5, mosaic=1.0, mixup=0.0, copy_paste=0.0\n",
            "\u001b[34m\u001b[1mClearML: \u001b[0mrun 'pip install clearml' to automatically track, visualize and remotely train YOLOv5 🚀 in ClearML\n",
            "\u001b[34m\u001b[1mComet: \u001b[0mrun 'pip install comet_ml' to automatically track and visualize YOLOv5 🚀 runs in Comet\n",
            "\u001b[34m\u001b[1mTensorBoard: \u001b[0mStart with 'tensorboard --logdir runs/train', view at http://localhost:6006/\n",
            "2023-03-06 16:12:22.427053: I tensorflow/core/platform/cpu_feature_guard.cc:193] This TensorFlow binary is optimized with oneAPI Deep Neural Network Library (oneDNN) to use the following CPU instructions in performance-critical operations:  AVX2 AVX512F FMA\n",
            "To enable them in other operations, rebuild TensorFlow with the appropriate compiler flags.\n",
            "2023-03-06 16:12:24.482889: W tensorflow/compiler/xla/stream_executor/platform/default/dso_loader.cc:64] Could not load dynamic library 'libnvinfer.so.7'; dlerror: libnvinfer.so.7: cannot open shared object file: No such file or directory; LD_LIBRARY_PATH: /usr/local/lib/python3.8/dist-packages/cv2/../../lib64:/usr/lib64-nvidia\n",
            "2023-03-06 16:12:24.483035: W tensorflow/compiler/xla/stream_executor/platform/default/dso_loader.cc:64] Could not load dynamic library 'libnvinfer_plugin.so.7'; dlerror: libnvinfer_plugin.so.7: cannot open shared object file: No such file or directory; LD_LIBRARY_PATH: /usr/local/lib/python3.8/dist-packages/cv2/../../lib64:/usr/lib64-nvidia\n",
            "2023-03-06 16:12:24.483057: W tensorflow/compiler/tf2tensorrt/utils/py_utils.cc:38] TF-TRT Warning: Cannot dlopen some TensorRT libraries. If you would like to use Nvidia GPU with TensorRT, please make sure the missing libraries mentioned above are installed properly.\n",
            "Downloading https://ultralytics.com/assets/Arial.ttf to /root/.config/Ultralytics/Arial.ttf...\n",
            "100% 755k/755k [00:00<00:00, 49.1MB/s]\n",
            "Overriding model.yaml nc=80 with nc=10\n",
            "\n",
            "                 from  n    params  module                                  arguments                     \n",
            "  0                -1  1      3520  models.common.Conv                      [3, 32, 6, 2, 2]              \n",
            "  1                -1  1     18560  models.common.Conv                      [32, 64, 3, 2]                \n",
            "  2                -1  1     18816  models.common.C3                        [64, 64, 1]                   \n",
            "  3                -1  1     73984  models.common.Conv                      [64, 128, 3, 2]               \n",
            "  4                -1  2    115712  models.common.C3                        [128, 128, 2]                 \n",
            "  5                -1  1    295424  models.common.Conv                      [128, 256, 3, 2]              \n",
            "  6                -1  3    625152  models.common.C3                        [256, 256, 3]                 \n",
            "  7                -1  1   1180672  models.common.Conv                      [256, 512, 3, 2]              \n",
            "  8                -1  1   1182720  models.common.C3                        [512, 512, 1]                 \n",
            "  9                -1  1    656896  models.common.SPPF                      [512, 512, 5]                 \n",
            " 10                -1  1    131584  models.common.Conv                      [512, 256, 1, 1]              \n",
            " 11                -1  1         0  torch.nn.modules.upsampling.Upsample    [None, 2, 'nearest']          \n",
            " 12           [-1, 6]  1         0  models.common.Concat                    [1]                           \n",
            " 13                -1  1    361984  models.common.C3                        [512, 256, 1, False]          \n",
            " 14                -1  1     33024  models.common.Conv                      [256, 128, 1, 1]              \n",
            " 15                -1  1         0  torch.nn.modules.upsampling.Upsample    [None, 2, 'nearest']          \n",
            " 16           [-1, 4]  1         0  models.common.Concat                    [1]                           \n",
            " 17                -1  1     90880  models.common.C3                        [256, 128, 1, False]          \n",
            " 18                -1  1    147712  models.common.Conv                      [128, 128, 3, 2]              \n",
            " 19          [-1, 14]  1         0  models.common.Concat                    [1]                           \n",
            " 20                -1  1    296448  models.common.C3                        [256, 256, 1, False]          \n",
            " 21                -1  1    590336  models.common.Conv                      [256, 256, 3, 2]              \n",
            " 22          [-1, 10]  1         0  models.common.Concat                    [1]                           \n",
            " 23                -1  1   1182720  models.common.C3                        [512, 512, 1, False]          \n",
            " 24      [17, 20, 23]  1     40455  models.yolo.Detect                      [10, [[10, 13, 16, 30, 33, 23], [30, 61, 62, 45, 59, 119], [116, 90, 156, 198, 373, 326]], [128, 256, 512]]\n",
            "Model summary: 214 layers, 7046599 parameters, 7046599 gradients\n",
            "\n",
            "Transferred 343/349 items from yolov5s.pt\n",
            "\u001b[34m\u001b[1mAMP: \u001b[0mchecks passed ✅\n",
            "\u001b[34m\u001b[1moptimizer:\u001b[0m SGD(lr=0.01) with parameter groups 57 weight(decay=0.0), 60 weight(decay=0.0005), 60 bias\n",
            "\u001b[34m\u001b[1malbumentations: \u001b[0mBlur(p=0.01, blur_limit=(3, 7)), MedianBlur(p=0.01, blur_limit=(3, 7)), ToGray(p=0.01), CLAHE(p=0.01, clip_limit=(1, 4.0), tile_grid_size=(8, 8))\n",
            "\u001b[34m\u001b[1mtrain: \u001b[0mScanning /content/VisDrone2019-DET/VisDrone2019-DET-train/labels... 6471 images, 0 backgrounds, 0 corrupt: 100% 6471/6471 [00:15<00:00, 426.99it/s]\n",
            "\u001b[34m\u001b[1mtrain: \u001b[0mWARNING ⚠️ /content/VisDrone2019-DET/VisDrone2019-DET-train/images/0000137_02220_d_0000163.jpg: 1 duplicate labels removed\n",
            "\u001b[34m\u001b[1mtrain: \u001b[0mWARNING ⚠️ /content/VisDrone2019-DET/VisDrone2019-DET-train/images/0000140_00118_d_0000002.jpg: 1 duplicate labels removed\n",
            "\u001b[34m\u001b[1mtrain: \u001b[0mWARNING ⚠️ /content/VisDrone2019-DET/VisDrone2019-DET-train/images/9999945_00000_d_0000114.jpg: 1 duplicate labels removed\n",
            "\u001b[34m\u001b[1mtrain: \u001b[0mWARNING ⚠️ /content/VisDrone2019-DET/VisDrone2019-DET-train/images/9999987_00000_d_0000049.jpg: 1 duplicate labels removed\n",
            "\u001b[34m\u001b[1mtrain: \u001b[0mNew cache created: /content/VisDrone2019-DET/VisDrone2019-DET-train/labels.cache\n",
            "\u001b[34m\u001b[1mval: \u001b[0mScanning /content/VisDrone2019-DET/VisDrone2019-DET-val/labels... 548 images, 0 backgrounds, 0 corrupt: 100% 548/548 [00:01<00:00, 511.58it/s]\n",
            "\u001b[34m\u001b[1mval: \u001b[0mNew cache created: /content/VisDrone2019-DET/VisDrone2019-DET-val/labels.cache\n",
            "\n",
            "\u001b[34m\u001b[1mAutoAnchor: \u001b[0m2.95 anchors/target, 0.933 Best Possible Recall (BPR). Anchors are a poor fit to dataset ⚠️, attempting to improve...\n",
            "\u001b[34m\u001b[1mAutoAnchor: \u001b[0mWARNING ⚠️ Extremely small objects found: 29644 of 343201 labels are <3 pixels in size\n",
            "\u001b[34m\u001b[1mAutoAnchor: \u001b[0mRunning kmeans for 9 anchors on 342304 points...\n",
            "\u001b[34m\u001b[1mAutoAnchor: \u001b[0mEvolving anchors with Genetic Algorithm: fitness = 0.7525: 100% 1000/1000 [01:37<00:00, 10.26it/s]\n",
            "\u001b[34m\u001b[1mAutoAnchor: \u001b[0mthr=0.25: 0.9994 best possible recall, 5.81 anchors past thr\n",
            "\u001b[34m\u001b[1mAutoAnchor: \u001b[0mn=9, img_size=640, metric_all=0.367/0.752-mean/best, past_thr=0.485-mean: 3,4, 4,9, 8,6, 7,14, 15,9, 15,19, 31,17, 25,37, 55,42\n",
            "\u001b[34m\u001b[1mAutoAnchor: \u001b[0mDone ✅ (optional: update model *.yaml to use these anchors in the future)\n",
            "Plotting labels to runs/train/exp/labels.jpg... \n",
            "Image sizes 640 train, 640 val\n",
            "Using 2 dataloader workers\n",
            "Logging results to \u001b[1mruns/train/exp\u001b[0m\n",
            "Starting training for 10 epochs...\n",
            "\n",
            "      Epoch    GPU_mem   box_loss   obj_loss   cls_loss  Instances       Size\n",
            "        0/9        14G     0.1327     0.1255    0.04986        648        640: 100% 102/102 [13:25<00:00,  7.89s/it]\n",
            "                 Class     Images  Instances          P          R      mAP50   mAP50-95:   0% 0/5 [00:00<?, ?it/s]WARNING ⚠️ NMS time limit 6.900s exceeded\n",
            "                 Class     Images  Instances          P          R      mAP50   mAP50-95:  20% 1/5 [00:08<00:32,  8.05s/it]WARNING ⚠️ NMS time limit 6.900s exceeded\n",
            "                 Class     Images  Instances          P          R      mAP50   mAP50-95:  40% 2/5 [00:16<00:25,  8.42s/it]WARNING ⚠️ NMS time limit 6.900s exceeded\n",
            "                 Class     Images  Instances          P          R      mAP50   mAP50-95:  60% 3/5 [00:24<00:16,  8.33s/it]WARNING ⚠️ NMS time limit 6.900s exceeded\n",
            "                 Class     Images  Instances          P          R      mAP50   mAP50-95:  80% 4/5 [00:33<00:08,  8.46s/it]WARNING ⚠️ NMS time limit 2.300s exceeded\n",
            "                 Class     Images  Instances          P          R      mAP50   mAP50-95: 100% 5/5 [00:36<00:00,  7.29s/it]\n",
            "                   all        548      38759      0.247     0.0571     0.0352     0.0127\n",
            "\n",
            "      Epoch    GPU_mem   box_loss   obj_loss   cls_loss  Instances       Size\n",
            "        1/9        14G     0.1125     0.1648    0.03865        631        640: 100% 102/102 [13:03<00:00,  7.68s/it]\n",
            "                 Class     Images  Instances          P          R      mAP50   mAP50-95:   0% 0/5 [00:00<?, ?it/s]WARNING ⚠️ NMS time limit 6.900s exceeded\n",
            "                 Class     Images  Instances          P          R      mAP50   mAP50-95:  40% 2/5 [00:16<00:24,  8.32s/it]WARNING ⚠️ NMS time limit 6.900s exceeded\n",
            "                 Class     Images  Instances          P          R      mAP50   mAP50-95: 100% 5/5 [00:34<00:00,  6.97s/it]\n",
            "                   all        548      38759      0.284       0.16     0.0877     0.0352\n",
            "\n",
            "      Epoch    GPU_mem   box_loss   obj_loss   cls_loss  Instances       Size\n",
            "        2/9        14G     0.1098     0.1693    0.03599       1048        640: 100% 102/102 [13:08<00:00,  7.73s/it]\n",
            "                 Class     Images  Instances          P          R      mAP50   mAP50-95:   0% 0/5 [00:00<?, ?it/s]WARNING ⚠️ NMS time limit 6.900s exceeded\n",
            "                 Class     Images  Instances          P          R      mAP50   mAP50-95:  20% 1/5 [00:08<00:32,  8.20s/it]WARNING ⚠️ NMS time limit 6.900s exceeded\n",
            "                 Class     Images  Instances          P          R      mAP50   mAP50-95:  40% 2/5 [00:16<00:24,  8.30s/it]WARNING ⚠️ NMS time limit 6.900s exceeded\n",
            "                 Class     Images  Instances          P          R      mAP50   mAP50-95:  60% 3/5 [00:25<00:16,  8.37s/it]WARNING ⚠️ NMS time limit 6.900s exceeded\n",
            "                 Class     Images  Instances          P          R      mAP50   mAP50-95:  80% 4/5 [00:33<00:08,  8.29s/it]WARNING ⚠️ NMS time limit 2.300s exceeded\n",
            "                 Class     Images  Instances          P          R      mAP50   mAP50-95: 100% 5/5 [00:36<00:00,  7.27s/it]\n",
            "                   all        548      38759        0.3      0.115     0.0752     0.0282\n",
            "\n",
            "      Epoch    GPU_mem   box_loss   obj_loss   cls_loss  Instances       Size\n",
            "        3/9        14G     0.1073     0.1689    0.03413        568        640: 100% 102/102 [13:12<00:00,  7.77s/it]\n",
            "                 Class     Images  Instances          P          R      mAP50   mAP50-95:  40% 2/5 [00:16<00:24,  8.18s/it]WARNING ⚠️ NMS time limit 6.900s exceeded\n",
            "                 Class     Images  Instances          P          R      mAP50   mAP50-95: 100% 5/5 [00:34<00:00,  6.87s/it]\n",
            "                   all        548      38759      0.363      0.187      0.133     0.0543\n",
            "\n",
            "      Epoch    GPU_mem   box_loss   obj_loss   cls_loss  Instances       Size\n",
            "        4/9        14G     0.1053     0.1692    0.03268        489        640: 100% 102/102 [13:06<00:00,  7.71s/it]\n",
            "                 Class     Images  Instances          P          R      mAP50   mAP50-95:   0% 0/5 [00:00<?, ?it/s]WARNING ⚠️ NMS time limit 6.900s exceeded\n",
            "                 Class     Images  Instances          P          R      mAP50   mAP50-95:  40% 2/5 [00:14<00:21,  7.17s/it]WARNING ⚠️ NMS time limit 6.900s exceeded\n",
            "                 Class     Images  Instances          P          R      mAP50   mAP50-95:  80% 4/5 [00:30<00:07,  7.84s/it]WARNING ⚠️ NMS time limit 2.300s exceeded\n",
            "                 Class     Images  Instances          P          R      mAP50   mAP50-95: 100% 5/5 [00:34<00:00,  6.85s/it]\n",
            "                   all        548      38759      0.386      0.148      0.123     0.0504\n",
            "\n",
            "      Epoch    GPU_mem   box_loss   obj_loss   cls_loss  Instances       Size\n",
            "        5/9        14G     0.1037     0.1661    0.03177        828        640: 100% 102/102 [13:04<00:00,  7.69s/it]\n",
            "                 Class     Images  Instances          P          R      mAP50   mAP50-95:  40% 2/5 [00:16<00:25,  8.47s/it]WARNING ⚠️ NMS time limit 6.900s exceeded\n",
            "                 Class     Images  Instances          P          R      mAP50   mAP50-95: 100% 5/5 [00:34<00:00,  6.95s/it]\n",
            "                   all        548      38759      0.425      0.213       0.18     0.0792\n",
            "\n",
            "      Epoch    GPU_mem   box_loss   obj_loss   cls_loss  Instances       Size\n",
            "        6/9        14G     0.1027     0.1663     0.0309        507        640: 100% 102/102 [12:59<00:00,  7.64s/it]\n",
            "                 Class     Images  Instances          P          R      mAP50   mAP50-95:   0% 0/5 [00:00<?, ?it/s]WARNING ⚠️ NMS time limit 6.900s exceeded\n",
            "                 Class     Images  Instances          P          R      mAP50   mAP50-95:  40% 2/5 [00:14<00:21,  7.15s/it]WARNING ⚠️ NMS time limit 6.900s exceeded\n",
            "                 Class     Images  Instances          P          R      mAP50   mAP50-95:  80% 4/5 [00:30<00:07,  7.78s/it]WARNING ⚠️ NMS time limit 2.300s exceeded\n",
            "                 Class     Images  Instances          P          R      mAP50   mAP50-95: 100% 5/5 [00:33<00:00,  6.75s/it]\n",
            "                   all        548      38759      0.451      0.187      0.167     0.0774\n",
            "\n",
            "      Epoch    GPU_mem   box_loss   obj_loss   cls_loss  Instances       Size\n",
            "        7/9        14G     0.1015     0.1648    0.03003        679        640: 100% 102/102 [12:46<00:00,  7.52s/it]\n",
            "                 Class     Images  Instances          P          R      mAP50   mAP50-95: 100% 5/5 [00:32<00:00,  6.44s/it]\n",
            "                   all        548      38759      0.408      0.236      0.214      0.105\n",
            "\n",
            "      Epoch    GPU_mem   box_loss   obj_loss   cls_loss  Instances       Size\n",
            "        8/9        14G     0.1008     0.1643    0.02957        516        640: 100% 102/102 [12:51<00:00,  7.57s/it]\n",
            "                 Class     Images  Instances          P          R      mAP50   mAP50-95:   0% 0/5 [00:00<?, ?it/s]WARNING ⚠️ NMS time limit 6.900s exceeded\n",
            "                 Class     Images  Instances          P          R      mAP50   mAP50-95: 100% 5/5 [00:31<00:00,  6.31s/it]\n",
            "                   all        548      38759      0.339      0.237      0.215      0.106\n",
            "\n",
            "      Epoch    GPU_mem   box_loss   obj_loss   cls_loss  Instances       Size\n",
            "        9/9        14G     0.1006     0.1631    0.02916        568        640: 100% 102/102 [12:56<00:00,  7.61s/it]\n",
            "                 Class     Images  Instances          P          R      mAP50   mAP50-95: 100% 5/5 [00:31<00:00,  6.33s/it]\n",
            "                   all        548      38759      0.339      0.256      0.227      0.114\n",
            "\n",
            "10 epochs completed in 2.276 hours.\n",
            "Optimizer stripped from runs/train/exp/weights/last.pt, 14.4MB\n",
            "Optimizer stripped from runs/train/exp/weights/best.pt, 14.4MB\n",
            "\n",
            "Validating runs/train/exp/weights/best.pt...\n",
            "Fusing layers... \n",
            "Model summary: 157 layers, 7037095 parameters, 0 gradients\n",
            "                 Class     Images  Instances          P          R      mAP50   mAP50-95:  40% 2/5 [00:36<00:58, 19.56s/it]WARNING ⚠️ NMS time limit 6.900s exceeded\n",
            "                 Class     Images  Instances          P          R      mAP50   mAP50-95: 100% 5/5 [01:27<00:00, 17.59s/it]\n",
            "                   all        548      38759      0.326      0.254      0.222      0.112\n",
            "            pedestrian        548       8844      0.358      0.332      0.306      0.122\n",
            "                people        548       5125      0.342      0.293      0.243     0.0824\n",
            "               bicycle        548       1287      0.191     0.0425     0.0483     0.0171\n",
            "                   car        548      14064      0.427      0.716      0.661      0.406\n",
            "                   van        548       1975      0.275      0.216      0.187      0.121\n",
            "                 truck        548        750      0.287      0.237      0.179      0.102\n",
            "              tricycle        548       1045      0.438     0.0275     0.0848     0.0452\n",
            "       awning-tricycle        548        532      0.306    0.00752     0.0456     0.0274\n",
            "                   bus        548        251      0.272      0.307      0.181      0.102\n",
            "                 motor        548       4886      0.369      0.359      0.282     0.0985\n",
            "Results saved to \u001b[1mruns/train/exp\u001b[0m\n"
          ]
        }
      ]
    }
  ]
}