{
  "cells": [
    {
      "cell_type": "markdown",
      "metadata": {
        "id": "view-in-github",
        "colab_type": "text"
      },
      "source": [
        "<a href=\"https://colab.research.google.com/github/haminhtien99/object_detection_using_UAV/blob/main/training%20process/experiment_yolov7.ipynb\" target=\"_parent\"><img src=\"https://colab.research.google.com/assets/colab-badge.svg\" alt=\"Open In Colab\"/></a>"
      ]
    },
    {
      "cell_type": "markdown",
      "metadata": {
        "id": "hQFnS6mCkHCD"
      },
      "source": [
        "Ссылка на диск, где я сохранил результаты экспериментов https://drive.google.com/drive/folders/11Nav8hh7rbJAbx6nsNxxyw9oR5VvRbEp"
      ]
    },
    {
      "cell_type": "markdown",
      "metadata": {
        "id": "orbvJmhJkVUp"
      },
      "source": [
        "Ссылька на мой репозиторий github\n",
        "https://github.com/haminhtien99/object_detection_using_UAV"
      ]
    },
    {
      "cell_type": "markdown",
      "metadata": {
        "id": "sOXXziDDnY6A"
      },
      "source": [
        "### Описане датасета"
      ]
    },
    {
      "cell_type": "markdown",
      "metadata": {
        "id": "9zeOZwUgndYz"
      },
      "source": [
        "VisDrone2019-DET состоит из четырех частей:\n",
        "- VisDrone2019-DET-train --> train set (6471 imgs)\n",
        "- VisDrone2019-DET-val --> val set  (548 imgs)\n",
        "- VisDrone2019-DET-test-dev --> test set (1610 imgs)\n",
        "- VisDrone2019-DET-test-challenge (есть только изображения, нет аннотаций)"
      ]
    },
    {
      "cell_type": "code",
      "execution_count": null,
      "metadata": {
        "colab": {
          "base_uri": "https://localhost:8080/"
        },
        "id": "RCGhla7rlm9U",
        "outputId": "c76c5b6d-eedc-4df6-aaa3-97fb202e35ab"
      },
      "outputs": [
        {
          "name": "stdout",
          "output_type": "stream",
          "text": [
            "/content/drive/.shortcut-targets-by-id/1o4xA-t9WL4l57kdtunGUcs2dNgvWDulo/yolov7\n"
          ]
        }
      ],
      "source": [
        "# инициализация файл .yaml для обучения Yolov7\n",
        "%cd /content/drive/MyDrive/Nir/yolov7\n",
        "!rm data/mydataset.yaml\n",
        "!echo 'train: /content/VisDrone2019-DET/VisDrone2019-DET-train' >> data/mydataset.yaml\n",
        "!echo 'val: /content/VisDrone2019-DET/VisDrone2019-DET-val' >> data/mydataset.yaml\n",
        "!echo 'test: /content/VisDrone2019-DET/VisDrone2019-DET-test-dev' >> data/mydataset.yaml\n",
        "!echo 'nc: 10' >> data/mydataset.yaml\n",
        "!echo \"names: ['pedestrian', 'people', 'bicycle','car', 'van', 'truck', 'tricycle','awning-tricycle','bus', 'motor']\" >> data/mydataset.yaml"
      ]
    },
    {
      "cell_type": "markdown",
      "metadata": {
        "id": "sy_pQtSRK0yf"
      },
      "source": [
        "### Train yolov7"
      ]
    },
    {
      "cell_type": "code",
      "execution_count": 1,
      "metadata": {
        "colab": {
          "base_uri": "https://localhost:8080/"
        },
        "id": "9wfQDL2bxFJH",
        "outputId": "61802948-f1cb-49b0-e9f2-b2ee9549ec70"
      },
      "outputs": [
        {
          "output_type": "stream",
          "name": "stdout",
          "text": [
            "Mounted at /content/drive\n"
          ]
        }
      ],
      "source": [
        "from google.colab import drive\n",
        "drive.mount('/content/drive')"
      ]
    },
    {
      "cell_type": "code",
      "execution_count": 2,
      "metadata": {
        "id": "Oogndb0JFHoD"
      },
      "outputs": [],
      "source": [
        "# Копировать папку VisDrone2019-DET из диска в /content \n",
        "# для уменьшения задержки процесса обучения модели \n",
        "!cp -r /content/drive/MyDrive/Nir/VisDrone2019-DET /content"
      ]
    },
    {
      "cell_type": "markdown",
      "metadata": {
        "id": "xPzfJ2bD1cQf"
      },
      "source": [
        "Проверёл обучение 8 раз, каждый раз на 10 или 15 эпох. В итоге есть 95 эпох ~ 76000 итераций. Использовать вес last.pt для обучения в следующий раз. Вес best.pt для проверки обнаружения. Файлы train.py, test.py, detect.py из репозитория yolov7(или yolov5) github"
      ]
    },
    {
      "cell_type": "code",
      "execution_count": null,
      "metadata": {
        "id": "R7R8GN6rbu-J"
      },
      "outputs": [],
      "source": [
        "# batchsize = 2 из-за ограничения gpu colab\n",
        "%cd /content/drive/MyDrive/Nir/yolov7\n",
        "!python train.py --batch 2 --cfg cfg/training/yolov7.yaml --img 1280 1280 --epochs 50 --data data/mydataset.yaml --weights 'pretrain/yolov7.pt'"
      ]
    },
    {
      "cell_type": "markdown",
      "metadata": {
        "id": "qi-s7xOyQVoR"
      },
      "source": [
        "Обучение для входного разрешения 1280*1280"
      ]
    },
    {
      "cell_type": "code",
      "execution_count": null,
      "metadata": {
        "colab": {
          "base_uri": "https://localhost:8080/"
        },
        "id": "bVHDDmvxlmeW",
        "outputId": "6009b0db-35ca-4e61-83d2-2d4202880933"
      },
      "outputs": [
        {
          "output_type": "stream",
          "name": "stdout",
          "text": [
            "/content/drive/.shortcut-targets-by-id/1o4xA-t9WL4l57kdtunGUcs2dNgvWDulo/yolov7\n",
            "2023-05-04 09:00:03.147383: I tensorflow/core/platform/cpu_feature_guard.cc:182] This TensorFlow binary is optimized to use available CPU instructions in performance-critical operations.\n",
            "To enable the following instructions: AVX2 FMA, in other operations, rebuild TensorFlow with the appropriate compiler flags.\n",
            "2023-05-04 09:00:04.069861: W tensorflow/compiler/tf2tensorrt/utils/py_utils.cc:38] TF-TRT Warning: Could not find TensorRT\n",
            "YOLOR 🚀 v0.1-116-g8c0bf3f torch 2.0.0+cu118 CUDA:0 (Tesla T4, 15101.8125MB)\n",
            "\n",
            "Namespace(weights='/content/drive/MyDrive/Nir/yolov7/runs/train/exp4/weights/last.pt', cfg='cfg/training/yolov7.yaml', data='data/mydataset.yaml', hyp='data/hyp.scratch.p5.yaml', epochs=50, batch_size=2, img_size=[1280, 1280], rect=False, resume=False, nosave=False, notest=False, noautoanchor=False, evolve=False, bucket='', cache_images=False, image_weights=False, device='', multi_scale=False, single_cls=False, adam=False, sync_bn=False, local_rank=-1, workers=8, project='runs/train', entity=None, name='exp', exist_ok=False, quad=False, linear_lr=False, label_smoothing=0.0, upload_dataset=False, bbox_interval=-1, save_period=-1, artifact_alias='latest', freeze=[0], v5_metric=False, world_size=1, global_rank=-1, save_dir='runs/train/exp5', total_batch_size=2)\n",
            "\u001b[34m\u001b[1mtensorboard: \u001b[0mStart with 'tensorboard --logdir runs/train', view at http://localhost:6006/\n",
            "\u001b[34m\u001b[1mhyperparameters: \u001b[0mlr0=0.01, lrf=0.1, momentum=0.937, weight_decay=0.0005, warmup_epochs=3.0, warmup_momentum=0.8, warmup_bias_lr=0.1, box=0.05, cls=0.3, cls_pw=1.0, obj=0.7, obj_pw=1.0, iou_t=0.2, anchor_t=4.0, fl_gamma=0.0, hsv_h=0.015, hsv_s=0.7, hsv_v=0.4, degrees=0.0, translate=0.2, scale=0.9, shear=0.0, perspective=0.0, flipud=0.0, fliplr=0.5, mosaic=1.0, mixup=0.15, copy_paste=0.0, paste_in=0.15, loss_ota=1\n",
            "\u001b[34m\u001b[1mwandb: \u001b[0mInstall Weights & Biases for YOLOR logging with 'pip install wandb' (recommended)\n",
            "Overriding model.yaml nc=80 with nc=10\n",
            "\n",
            "                 from  n    params  module                                  arguments                     \n",
            "  0                -1  1       928  models.common.Conv                      [3, 32, 3, 1]                 \n",
            "  1                -1  1     18560  models.common.Conv                      [32, 64, 3, 2]                \n",
            "  2                -1  1     36992  models.common.Conv                      [64, 64, 3, 1]                \n",
            "  3                -1  1     73984  models.common.Conv                      [64, 128, 3, 2]               \n",
            "  4                -1  1      8320  models.common.Conv                      [128, 64, 1, 1]               \n",
            "  5                -2  1      8320  models.common.Conv                      [128, 64, 1, 1]               \n",
            "  6                -1  1     36992  models.common.Conv                      [64, 64, 3, 1]                \n",
            "  7                -1  1     36992  models.common.Conv                      [64, 64, 3, 1]                \n",
            "  8                -1  1     36992  models.common.Conv                      [64, 64, 3, 1]                \n",
            "  9                -1  1     36992  models.common.Conv                      [64, 64, 3, 1]                \n",
            " 10  [-1, -3, -5, -6]  1         0  models.common.Concat                    [1]                           \n",
            " 11                -1  1     66048  models.common.Conv                      [256, 256, 1, 1]              \n",
            " 12                -1  1         0  models.common.MP                        []                            \n",
            " 13                -1  1     33024  models.common.Conv                      [256, 128, 1, 1]              \n",
            " 14                -3  1     33024  models.common.Conv                      [256, 128, 1, 1]              \n",
            " 15                -1  1    147712  models.common.Conv                      [128, 128, 3, 2]              \n",
            " 16          [-1, -3]  1         0  models.common.Concat                    [1]                           \n",
            " 17                -1  1     33024  models.common.Conv                      [256, 128, 1, 1]              \n",
            " 18                -2  1     33024  models.common.Conv                      [256, 128, 1, 1]              \n",
            " 19                -1  1    147712  models.common.Conv                      [128, 128, 3, 1]              \n",
            " 20                -1  1    147712  models.common.Conv                      [128, 128, 3, 1]              \n",
            " 21                -1  1    147712  models.common.Conv                      [128, 128, 3, 1]              \n",
            " 22                -1  1    147712  models.common.Conv                      [128, 128, 3, 1]              \n",
            " 23  [-1, -3, -5, -6]  1         0  models.common.Concat                    [1]                           \n",
            " 24                -1  1    263168  models.common.Conv                      [512, 512, 1, 1]              \n",
            " 25                -1  1         0  models.common.MP                        []                            \n",
            " 26                -1  1    131584  models.common.Conv                      [512, 256, 1, 1]              \n",
            " 27                -3  1    131584  models.common.Conv                      [512, 256, 1, 1]              \n",
            " 28                -1  1    590336  models.common.Conv                      [256, 256, 3, 2]              \n",
            " 29          [-1, -3]  1         0  models.common.Concat                    [1]                           \n",
            " 30                -1  1    131584  models.common.Conv                      [512, 256, 1, 1]              \n",
            " 31                -2  1    131584  models.common.Conv                      [512, 256, 1, 1]              \n",
            " 32                -1  1    590336  models.common.Conv                      [256, 256, 3, 1]              \n",
            " 33                -1  1    590336  models.common.Conv                      [256, 256, 3, 1]              \n",
            " 34                -1  1    590336  models.common.Conv                      [256, 256, 3, 1]              \n",
            " 35                -1  1    590336  models.common.Conv                      [256, 256, 3, 1]              \n",
            " 36  [-1, -3, -5, -6]  1         0  models.common.Concat                    [1]                           \n",
            " 37                -1  1   1050624  models.common.Conv                      [1024, 1024, 1, 1]            \n",
            " 38                -1  1         0  models.common.MP                        []                            \n",
            " 39                -1  1    525312  models.common.Conv                      [1024, 512, 1, 1]             \n",
            " 40                -3  1    525312  models.common.Conv                      [1024, 512, 1, 1]             \n",
            " 41                -1  1   2360320  models.common.Conv                      [512, 512, 3, 2]              \n",
            " 42          [-1, -3]  1         0  models.common.Concat                    [1]                           \n",
            " 43                -1  1    262656  models.common.Conv                      [1024, 256, 1, 1]             \n",
            " 44                -2  1    262656  models.common.Conv                      [1024, 256, 1, 1]             \n",
            " 45                -1  1    590336  models.common.Conv                      [256, 256, 3, 1]              \n",
            " 46                -1  1    590336  models.common.Conv                      [256, 256, 3, 1]              \n",
            " 47                -1  1    590336  models.common.Conv                      [256, 256, 3, 1]              \n",
            " 48                -1  1    590336  models.common.Conv                      [256, 256, 3, 1]              \n",
            " 49  [-1, -3, -5, -6]  1         0  models.common.Concat                    [1]                           \n",
            " 50                -1  1   1050624  models.common.Conv                      [1024, 1024, 1, 1]            \n",
            " 51                -1  1   7609344  models.common.SPPCSPC                   [1024, 512, 1]                \n",
            " 52                -1  1    131584  models.common.Conv                      [512, 256, 1, 1]              \n",
            " 53                -1  1         0  torch.nn.modules.upsampling.Upsample    [None, 2, 'nearest']          \n",
            " 54                37  1    262656  models.common.Conv                      [1024, 256, 1, 1]             \n",
            " 55          [-1, -2]  1         0  models.common.Concat                    [1]                           \n",
            " 56                -1  1    131584  models.common.Conv                      [512, 256, 1, 1]              \n",
            " 57                -2  1    131584  models.common.Conv                      [512, 256, 1, 1]              \n",
            " 58                -1  1    295168  models.common.Conv                      [256, 128, 3, 1]              \n",
            " 59                -1  1    147712  models.common.Conv                      [128, 128, 3, 1]              \n",
            " 60                -1  1    147712  models.common.Conv                      [128, 128, 3, 1]              \n",
            " 61                -1  1    147712  models.common.Conv                      [128, 128, 3, 1]              \n",
            " 62[-1, -2, -3, -4, -5, -6]  1         0  models.common.Concat                    [1]                           \n",
            " 63                -1  1    262656  models.common.Conv                      [1024, 256, 1, 1]             \n",
            " 64                -1  1     33024  models.common.Conv                      [256, 128, 1, 1]              \n",
            " 65                -1  1         0  torch.nn.modules.upsampling.Upsample    [None, 2, 'nearest']          \n",
            " 66                24  1     65792  models.common.Conv                      [512, 128, 1, 1]              \n",
            " 67          [-1, -2]  1         0  models.common.Concat                    [1]                           \n",
            " 68                -1  1     33024  models.common.Conv                      [256, 128, 1, 1]              \n",
            " 69                -2  1     33024  models.common.Conv                      [256, 128, 1, 1]              \n",
            " 70                -1  1     73856  models.common.Conv                      [128, 64, 3, 1]               \n",
            " 71                -1  1     36992  models.common.Conv                      [64, 64, 3, 1]                \n",
            " 72                -1  1     36992  models.common.Conv                      [64, 64, 3, 1]                \n",
            " 73                -1  1     36992  models.common.Conv                      [64, 64, 3, 1]                \n",
            " 74[-1, -2, -3, -4, -5, -6]  1         0  models.common.Concat                    [1]                           \n",
            " 75                -1  1     65792  models.common.Conv                      [512, 128, 1, 1]              \n",
            " 76                -1  1         0  models.common.MP                        []                            \n",
            " 77                -1  1     16640  models.common.Conv                      [128, 128, 1, 1]              \n",
            " 78                -3  1     16640  models.common.Conv                      [128, 128, 1, 1]              \n",
            " 79                -1  1    147712  models.common.Conv                      [128, 128, 3, 2]              \n",
            " 80      [-1, -3, 63]  1         0  models.common.Concat                    [1]                           \n",
            " 81                -1  1    131584  models.common.Conv                      [512, 256, 1, 1]              \n",
            " 82                -2  1    131584  models.common.Conv                      [512, 256, 1, 1]              \n",
            " 83                -1  1    295168  models.common.Conv                      [256, 128, 3, 1]              \n",
            " 84                -1  1    147712  models.common.Conv                      [128, 128, 3, 1]              \n",
            " 85                -1  1    147712  models.common.Conv                      [128, 128, 3, 1]              \n",
            " 86                -1  1    147712  models.common.Conv                      [128, 128, 3, 1]              \n",
            " 87[-1, -2, -3, -4, -5, -6]  1         0  models.common.Concat                    [1]                           \n",
            " 88                -1  1    262656  models.common.Conv                      [1024, 256, 1, 1]             \n",
            " 89                -1  1         0  models.common.MP                        []                            \n",
            " 90                -1  1     66048  models.common.Conv                      [256, 256, 1, 1]              \n",
            " 91                -3  1     66048  models.common.Conv                      [256, 256, 1, 1]              \n",
            " 92                -1  1    590336  models.common.Conv                      [256, 256, 3, 2]              \n",
            " 93      [-1, -3, 51]  1         0  models.common.Concat                    [1]                           \n",
            " 94                -1  1    525312  models.common.Conv                      [1024, 512, 1, 1]             \n",
            " 95                -2  1    525312  models.common.Conv                      [1024, 512, 1, 1]             \n",
            " 96                -1  1   1180160  models.common.Conv                      [512, 256, 3, 1]              \n",
            " 97                -1  1    590336  models.common.Conv                      [256, 256, 3, 1]              \n",
            " 98                -1  1    590336  models.common.Conv                      [256, 256, 3, 1]              \n",
            " 99                -1  1    590336  models.common.Conv                      [256, 256, 3, 1]              \n",
            "100[-1, -2, -3, -4, -5, -6]  1         0  models.common.Concat                    [1]                           \n",
            "101                -1  1   1049600  models.common.Conv                      [2048, 512, 1, 1]             \n",
            "102                75  1    328704  models.common.RepConv                   [128, 256, 3, 1]              \n",
            "103                88  1   1312768  models.common.RepConv                   [256, 512, 3, 1]              \n",
            "104               101  1   5246976  models.common.RepConv                   [512, 1024, 3, 1]             \n",
            "105   [102, 103, 104]  1     82702  models.yolo.IDetect                     [10, [[12, 16, 19, 36, 40, 28], [36, 75, 76, 55, 72, 146], [142, 110, 192, 243, 459, 401]], [256, 512, 1024]]\n",
            "Model Summary: 415 layers, 37245102 parameters, 37245102 gradients\n",
            "\n",
            "Transferred 564/566 items from /content/drive/MyDrive/Nir/yolov7/runs/train/exp4/weights/last.pt\n",
            "Scaled weight_decay = 0.0005\n",
            "Optimizer groups: 95 .bias, 95 conv.weight, 98 other\n",
            "\u001b[34m\u001b[1mtrain: \u001b[0mScanning '/content/VisDrone2019-DET/VisDrone2019-DET-train/labels' images and labels... 187 found, 0 missing, 0 empty, 0 corrupted:   3% 187/6471 [00:00<00:09, 648.80it/s]\u001b[34m\u001b[1mtrain: \u001b[0mWARNING: Ignoring corrupted image and/or label /content/VisDrone2019-DET/VisDrone2019-DET-train/images/0000137_02220_d_0000163.jpg: duplicate labels\n",
            "\u001b[34m\u001b[1mtrain: \u001b[0mWARNING: Ignoring corrupted image and/or label /content/VisDrone2019-DET/VisDrone2019-DET-train/images/0000140_00118_d_0000002.jpg: duplicate labels\n",
            "\u001b[34m\u001b[1mtrain: \u001b[0mScanning '/content/VisDrone2019-DET/VisDrone2019-DET-train/labels' images and labels... 2093 found, 0 missing, 0 empty, 2 corrupted:  32% 2093/6471 [00:03<00:05, 826.83it/s]\u001b[34m\u001b[1mtrain: \u001b[0mWARNING: Ignoring corrupted image and/or label /content/VisDrone2019-DET/VisDrone2019-DET-train/images/9999945_00000_d_0000114.jpg: duplicate labels\n",
            "\u001b[34m\u001b[1mtrain: \u001b[0mScanning '/content/VisDrone2019-DET/VisDrone2019-DET-train/labels' images and labels... 5355 found, 0 missing, 0 empty, 3 corrupted:  83% 5355/6471 [00:09<00:02, 500.00it/s]\u001b[34m\u001b[1mtrain: \u001b[0mWARNING: Ignoring corrupted image and/or label /content/VisDrone2019-DET/VisDrone2019-DET-train/images/9999987_00000_d_0000049.jpg: duplicate labels\n",
            "\u001b[34m\u001b[1mtrain: \u001b[0mScanning '/content/VisDrone2019-DET/VisDrone2019-DET-train/labels' images and labels... 6471 found, 0 missing, 0 empty, 4 corrupted: 100% 6471/6471 [00:12<00:00, 538.56it/s]\n",
            "\u001b[34m\u001b[1mtrain: \u001b[0mNew cache created: /content/VisDrone2019-DET/VisDrone2019-DET-train/labels.cache\n",
            "\u001b[34m\u001b[1mval: \u001b[0mScanning '/content/VisDrone2019-DET/VisDrone2019-DET-val/labels' images and labels... 548 found, 0 missing, 0 empty, 0 corrupted: 100% 548/548 [00:01<00:00, 451.58it/s]\n",
            "\u001b[34m\u001b[1mval: \u001b[0mNew cache created: /content/VisDrone2019-DET/VisDrone2019-DET-val/labels.cache\n",
            "\n",
            "\u001b[34m\u001b[1mautoanchor: \u001b[0mAnalyzing anchors... anchors/target = 4.00, Best Possible Recall (BPR) = 0.9876\n",
            "Image sizes 1280 train, 1280 test\n",
            "Using 2 dataloader workers\n",
            "Logging results to runs/train/exp5\n",
            "Starting training for 50 epochs...\n",
            "\n",
            "     Epoch   gpu_mem       box       obj       cls     total    labels  img_size\n",
            "     23/49     1.73G   0.02721    0.0693   0.00576    0.1023        19      1280: 100% 3234/3234 [27:02<00:00,  1.99it/s]\n",
            "               Class      Images      Labels           P           R      mAP@.5  mAP@.5:.95:   0% 0/137 [00:00<?, ?it/s]/usr/local/lib/python3.10/dist-packages/torch/functional.py:504: UserWarning: torch.meshgrid: in an upcoming release, it will be required to pass the indexing argument. (Triggered internally at ../aten/src/ATen/native/TensorShape.cpp:3483.)\n",
            "  return _VF.meshgrid(tensors, **kwargs)  # type: ignore[attr-defined]\n",
            "               Class      Images      Labels           P           R      mAP@.5  mAP@.5:.95: 100% 137/137 [00:35<00:00,  3.91it/s]\n",
            "                 all         548       38759        0.63       0.554       0.567       0.343\n",
            "\n",
            "     Epoch   gpu_mem       box       obj       cls     total    labels  img_size\n",
            "     24/49     7.48G   0.02689   0.06816  0.005499    0.1005        99      1280: 100% 3234/3234 [26:33<00:00,  2.03it/s]\n",
            "               Class      Images      Labels           P           R      mAP@.5  mAP@.5:.95: 100% 137/137 [00:33<00:00,  4.13it/s]\n",
            "                 all         548       38759       0.628       0.545        0.56       0.339\n",
            "\n",
            "     Epoch   gpu_mem       box       obj       cls     total    labels  img_size\n",
            "     25/49        8G   0.02668   0.06824  0.005336    0.1003        21      1280: 100% 3234/3234 [26:28<00:00,  2.04it/s]\n",
            "               Class      Images      Labels           P           R      mAP@.5  mAP@.5:.95: 100% 137/137 [00:32<00:00,  4.21it/s]\n",
            "                 all         548       38759       0.616       0.569       0.571       0.346\n",
            "\n",
            "     Epoch   gpu_mem       box       obj       cls     total    labels  img_size\n",
            "     26/49     10.2G   0.02667   0.06743  0.005315   0.09942        48      1280: 100% 3234/3234 [26:11<00:00,  2.06it/s]\n",
            "               Class      Images      Labels           P           R      mAP@.5  mAP@.5:.95: 100% 137/137 [00:32<00:00,  4.25it/s]\n",
            "                 all         548       38759        0.63       0.546        0.56       0.338\n",
            "\n",
            "     Epoch   gpu_mem       box       obj       cls     total    labels  img_size\n",
            "     27/49     10.2G   0.02638   0.06699  0.005173   0.09854       213      1280: 100% 3234/3234 [26:00<00:00,  2.07it/s]\n",
            "               Class      Images      Labels           P           R      mAP@.5  mAP@.5:.95: 100% 137/137 [00:32<00:00,  4.19it/s]\n",
            "                 all         548       38759       0.627       0.559       0.563       0.342\n",
            "\n",
            "     Epoch   gpu_mem       box       obj       cls     total    labels  img_size\n",
            "     28/49     10.2G   0.02684   0.06879  0.005634    0.1013       188      1280: 100% 3234/3234 [26:11<00:00,  2.06it/s]\n",
            "               Class      Images      Labels           P           R      mAP@.5  mAP@.5:.95: 100% 137/137 [00:33<00:00,  4.12it/s]\n",
            "                 all         548       38759       0.626       0.558       0.571       0.347\n",
            "\n",
            "     Epoch   gpu_mem       box       obj       cls     total    labels  img_size\n",
            "     29/49     10.2G   0.02696   0.06979  0.005959    0.1027        22      1280: 100% 3234/3234 [26:04<00:00,  2.07it/s]\n",
            "               Class      Images      Labels           P           R      mAP@.5  mAP@.5:.95: 100% 137/137 [00:32<00:00,  4.19it/s]\n",
            "                 all         548       38759       0.637       0.557       0.572       0.349\n",
            "\n",
            "     Epoch   gpu_mem       box       obj       cls     total    labels  img_size\n",
            "     30/49     10.2G   0.02746    0.0728  0.006246    0.1065       100      1280: 100% 3234/3234 [26:13<00:00,  2.05it/s]\n",
            "               Class      Images      Labels           P           R      mAP@.5  mAP@.5:.95: 100% 137/137 [00:33<00:00,  4.14it/s]\n",
            "                 all         548       38759       0.639       0.555       0.573        0.35\n",
            "\n",
            "     Epoch   gpu_mem       box       obj       cls     total    labels  img_size\n",
            "     31/49     10.2G   0.02725   0.07064  0.006051    0.1039        14      1280: 100% 3234/3234 [26:25<00:00,  2.04it/s]\n",
            "               Class      Images      Labels           P           R      mAP@.5  mAP@.5:.95: 100% 137/137 [00:32<00:00,  4.20it/s]\n",
            "                 all         548       38759       0.639        0.56       0.576       0.351\n",
            "\n",
            "     Epoch   gpu_mem       box       obj       cls     total    labels  img_size\n",
            "     32/49     10.2G   0.02712   0.07036  0.005995    0.1035        57      1280: 100% 3234/3234 [26:13<00:00,  2.06it/s]\n",
            "               Class      Images      Labels           P           R      mAP@.5  mAP@.5:.95: 100% 137/137 [00:32<00:00,  4.22it/s]\n",
            "                 all         548       38759       0.637       0.565       0.579       0.354\n",
            "\n",
            "     Epoch   gpu_mem       box       obj       cls     total    labels  img_size\n",
            "     33/49     10.2G   0.02705   0.07075  0.005851    0.1037        23      1280: 100% 3234/3234 [26:01<00:00,  2.07it/s]\n",
            "               Class      Images      Labels           P           R      mAP@.5  mAP@.5:.95: 100% 137/137 [00:32<00:00,  4.27it/s]\n",
            "                 all         548       38759       0.626       0.574       0.579       0.355\n",
            "\n",
            "     Epoch   gpu_mem       box       obj       cls     total    labels  img_size\n",
            "     34/49     10.2G   0.02692   0.07089  0.005753    0.1036       270      1280:  68% 2214/3234 [17:45<08:46,  1.94it/s]"
          ]
        }
      ],
      "source": [
        "# batchsize = 2 из-за ограничения gpu colab\n",
        "%cd /content/drive/MyDrive/Nir/yolov7\n",
        "!python train.py --batch 2 --cfg cfg/training/yolov7.yaml --img 1280 1280 --epochs 50 --data data/mydataset.yaml --weights '/content/drive/MyDrive/Nir/yolov7/runs/train/exp4/weights/last.pt'"
      ]
    },
    {
      "cell_type": "markdown",
      "metadata": {
        "id": "8Xp_PZwnAl0h"
      },
      "source": [
        "### Detect on test-challenge"
      ]
    },
    {
      "cell_type": "markdown",
      "metadata": {
        "id": "F3HNbnUuA-Ob"
      },
      "source": [
        "С разными разрешениями [320, 416, 640, 1026, 1120, 1280]"
      ]
    },
    {
      "cell_type": "code",
      "execution_count": null,
      "metadata": {
        "colab": {
          "base_uri": "https://localhost:8080/"
        },
        "id": "GXkoIxpdv71R",
        "outputId": "42241653-8b3e-4bb3-af9d-f2b1b5ab913f"
      },
      "outputs": [
        {
          "name": "stdout",
          "output_type": "stream",
          "text": [
            "/content/drive/.shortcut-targets-by-id/1o4xA-t9WL4l57kdtunGUcs2dNgvWDulo/yolov7\n",
            "Namespace(weights=['runs/train/exp8/weights/best.pt'], source='/content/VisDrone2019-DET/VisDrone2019-DET-test-challenge/images', conf_thres=0.25, iou_thres=0.45, device='', view_img=False, save_conf=False, nosave=False, classes=None, agnostic_nms=False, augment=False, update=False, project='runs/detect', name='exp', exist_ok=False, no_trace=False)\n",
            "img_size =  320\n",
            "YOLOR 🚀 v0.1-116-g8c0bf3f torch 2.0.0+cu118 CUDA:0 (Tesla T4, 15101.8125MB)\n",
            "\n",
            "Fusing layers... \n",
            "RepConv.fuse_repvgg_block\n",
            "RepConv.fuse_repvgg_block\n",
            "RepConv.fuse_repvgg_block\n",
            "IDetect.fuse\n",
            "Model Summary: 314 layers, 36530318 parameters, 6194944 gradients\n",
            " Convert model to Traced-model... \n",
            " traced_script_module saved! \n",
            " model is traced! \n",
            "\n",
            "/usr/local/lib/python3.9/dist-packages/torch/functional.py:504: UserWarning: torch.meshgrid: in an upcoming release, it will be required to pass the indexing argument. (Triggered internally at ../aten/src/ATen/native/TensorShape.cpp:3483.)\n",
            "  return _VF.meshgrid(tensors, **kwargs)  # type: ignore[attr-defined]\n",
            "Done. (8.6ms) AvgInference, (1.1ms) AvgNMS\n",
            "img_size =  416\n",
            "YOLOR 🚀 v0.1-116-g8c0bf3f torch 2.0.0+cu118 CUDA:0 (Tesla T4, 15101.8125MB)\n",
            "\n",
            "Fusing layers... \n",
            "RepConv.fuse_repvgg_block\n",
            "RepConv.fuse_repvgg_block\n",
            "RepConv.fuse_repvgg_block\n",
            "IDetect.fuse\n",
            "Model Summary: 314 layers, 36530318 parameters, 6194944 gradients\n",
            " Convert model to Traced-model... \n",
            " traced_script_module saved! \n",
            " model is traced! \n",
            "\n",
            "Done. (9.0ms) AvgInference, (1.1ms) AvgNMS\n",
            "img_size =  640\n",
            "YOLOR 🚀 v0.1-116-g8c0bf3f torch 2.0.0+cu118 CUDA:0 (Tesla T4, 15101.8125MB)\n",
            "\n",
            "Fusing layers... \n",
            "RepConv.fuse_repvgg_block\n",
            "RepConv.fuse_repvgg_block\n",
            "RepConv.fuse_repvgg_block\n",
            "IDetect.fuse\n",
            "Model Summary: 314 layers, 36530318 parameters, 6194944 gradients\n",
            " Convert model to Traced-model... \n",
            " traced_script_module saved! \n",
            " model is traced! \n",
            "\n",
            "Done. (10.1ms) AvgInference, (1.1ms) AvgNMS\n",
            "img_size =  1026\n",
            "YOLOR 🚀 v0.1-116-g8c0bf3f torch 2.0.0+cu118 CUDA:0 (Tesla T4, 15101.8125MB)\n",
            "\n",
            "Fusing layers... \n",
            "RepConv.fuse_repvgg_block\n",
            "RepConv.fuse_repvgg_block\n",
            "RepConv.fuse_repvgg_block\n",
            "IDetect.fuse\n",
            "Model Summary: 314 layers, 36530318 parameters, 6194944 gradients\n",
            "WARNING: --img-size 1026 must be multiple of max stride 32, updating to 1056\n",
            " Convert model to Traced-model... \n",
            " traced_script_module saved! \n",
            " model is traced! \n",
            "\n",
            "Done. (19.0ms) AvgInference, (1.3ms) AvgNMS\n",
            "img_size =  1120\n",
            "YOLOR 🚀 v0.1-116-g8c0bf3f torch 2.0.0+cu118 CUDA:0 (Tesla T4, 15101.8125MB)\n",
            "\n",
            "Fusing layers... \n",
            "RepConv.fuse_repvgg_block\n",
            "RepConv.fuse_repvgg_block\n",
            "RepConv.fuse_repvgg_block\n",
            "IDetect.fuse\n",
            "Model Summary: 314 layers, 36530318 parameters, 6194944 gradients\n",
            " Convert model to Traced-model... \n",
            " traced_script_module saved! \n",
            " model is traced! \n",
            "\n",
            "Done. (21.8ms) AvgInference, (1.3ms) AvgNMS\n",
            "img_size =  1280\n",
            "YOLOR 🚀 v0.1-116-g8c0bf3f torch 2.0.0+cu118 CUDA:0 (Tesla T4, 15101.8125MB)\n",
            "\n",
            "Fusing layers... \n",
            "RepConv.fuse_repvgg_block\n",
            "RepConv.fuse_repvgg_block\n",
            "RepConv.fuse_repvgg_block\n",
            "IDetect.fuse\n",
            "Model Summary: 314 layers, 36530318 parameters, 6194944 gradients\n",
            " Convert model to Traced-model... \n",
            " traced_script_module saved! \n",
            " model is traced! \n",
            "\n",
            "Done. (25.9ms) AvgInference, (1.4ms) AvgNMS\n",
            "add AvgInference, AvgNMS to file runs/detect/results.txt\n",
            "\n"
          ]
        }
      ],
      "source": [
        "%cd /content/drive/MyDrive/Nir/yolov7\n",
        "!python mydetect.py --weights runs/train/exp8/weights/best.pt --conf 0.25 --source /content/VisDrone2019-DET/VisDrone2019-DET-test-challenge/images"
      ]
    },
    {
      "cell_type": "code",
      "execution_count": null,
      "metadata": {
        "colab": {
          "base_uri": "https://localhost:8080/"
        },
        "id": "nWn0YY6xNYNE",
        "outputId": "90a8bf5f-25c2-4ecb-d611-3ed5cda6992c"
      },
      "outputs": [
        {
          "name": "stdout",
          "output_type": "stream",
          "text": [
            "/content/drive/.shortcut-targets-by-id/1o4xA-t9WL4l57kdtunGUcs2dNgvWDulo/yolov7\n",
            "Namespace(weights=['/content/drive/MyDrive/Nir/yolov7/runs/train/exp/weights/last.pt'], data='data/mydataset.yaml', batch_size=8, img_size=640, conf_thres=0.001, iou_thres=0.65, task='val', device='0', single_cls=False, augment=False, verbose=False, save_txt=False, save_hybrid=False, save_conf=False, save_json=False, project='runs/test', name='exp', exist_ok=False, no_trace=False, v5_metric=False)\n",
            "YOLOR 🚀 v0.1-116-g8c0bf3f torch 2.0.0+cu118 CUDA:0 (Tesla T4, 15101.8125MB)\n",
            "\n",
            "Fusing layers... \n",
            "RepConv.fuse_repvgg_block\n",
            "RepConv.fuse_repvgg_block\n",
            "RepConv.fuse_repvgg_block\n",
            "IDetect.fuse\n",
            "Model Summary: 314 layers, 36530318 parameters, 6194944 gradients\n",
            " Convert model to Traced-model... \n",
            " traced_script_module saved! \n",
            " model is traced! \n",
            "\n",
            "\n",
            "WARNING: Dataset not found, nonexistent paths: ['/content/VisDrone2019-DET/VisDrone2019-DET-val']\n",
            "Traceback (most recent call last):\n",
            "  File \"/content/drive/.shortcut-targets-by-id/1o4xA-t9WL4l57kdtunGUcs2dNgvWDulo/yolov7/test.py\", line 319, in <module>\n",
            "    test(opt.data,\n",
            "  File \"/content/drive/.shortcut-targets-by-id/1o4xA-t9WL4l57kdtunGUcs2dNgvWDulo/yolov7/test.py\", line 76, in test\n",
            "    check_dataset(data)  # check\n",
            "  File \"/content/drive/.shortcut-targets-by-id/1o4xA-t9WL4l57kdtunGUcs2dNgvWDulo/yolov7/utils/general.py\", line 173, in check_dataset\n",
            "    raise Exception('Dataset not found.')\n",
            "Exception: Dataset not found.\n"
          ]
        }
      ],
      "source": [
        "%cd /content/drive/MyDrive/Nir/yolov7\n",
        "!python test.py --data data/mydataset.yaml --img 640 --batch 8 --conf 0.001 --iou 0.65 --device 0 --weights /content/drive/MyDrive/Nir/yolov7/runs/train/exp/weights/last.pt"
      ]
    },
    {
      "cell_type": "markdown",
      "metadata": {
        "id": "86NbMbEFyuYG"
      },
      "source": [
        "## Результаты"
      ]
    },
    {
      "cell_type": "markdown",
      "metadata": {
        "id": "jdBA8ypXyzsa"
      },
      "source": [
        "Поскольку результаты каждый раз сохраняются в отдельном файле results.txt, все файлы results.txt должны считываться и записываться в один файл results.txt."
      ]
    },
    {
      "cell_type": "markdown",
      "metadata": {
        "id": "1N4XXG27Hu5E"
      },
      "source": [
        "### mAP, F1_score в процессе обучения"
      ]
    },
    {
      "cell_type": "code",
      "execution_count": null,
      "metadata": {
        "colab": {
          "base_uri": "https://localhost:8080/"
        },
        "id": "Rx0om4C81HuQ",
        "outputId": "ffbcb81d-2882-47af-91e4-1a5921b3724a"
      },
      "outputs": [
        {
          "name": "stdout",
          "output_type": "stream",
          "text": [
            "/content/drive/.shortcut-targets-by-id/1o4xA-t9WL4l57kdtunGUcs2dNgvWDulo/yolov7/runs/train\n",
            "/content/drive/MyDrive/Nir/yolov7/runs/train/exp/results.txt\n",
            "/content/drive/MyDrive/Nir/yolov7/runs/train/exp2/results.txt\n",
            "/content/drive/MyDrive/Nir/yolov7/runs/train/exp3/results.txt\n",
            "/content/drive/MyDrive/Nir/yolov7/runs/train/exp4/results.txt\n",
            "/content/drive/MyDrive/Nir/yolov7/runs/train/exp5/results.txt\n",
            "/content/drive/MyDrive/Nir/yolov7/runs/train/exp6/results.txt\n",
            "/content/drive/MyDrive/Nir/yolov7/runs/train/exp7/results.txt\n",
            "/content/drive/MyDrive/Nir/yolov7/runs/train/exp8/results.txt\n"
          ]
        }
      ],
      "source": [
        "%cd /content/drive/MyDrive/Nir/yolov7/runs/train\n",
        "path_dir = '/content/drive/MyDrive/Nir/yolov7/runs/train' #  path_dir + dir = full path \n",
        "list = ['exp', 'exp2', 'exp3', 'exp4', 'exp5', 'exp6', 'exp7', 'exp8']\n",
        "\n",
        "list_full_path = []\n",
        "for dir in list:\n",
        "    full_path = path_dir + '/'  + dir\n",
        "    list_full_path.append(full_path)\n",
        "\n",
        "\n",
        "target_file = path_dir + '/results.txt'\n",
        "\n",
        "for folder in list_full_path:\n",
        "    source_file = folder + '/results.txt' \n",
        "\n",
        "    \n",
        "    with open(source_file,'r') as f1:\n",
        "        content = f1.read()\n",
        "    with open(target_file, 'a') as f2:\n",
        "        f2.write(content + \"\\n\")\n",
        "    print(source_file)"
      ]
    },
    {
      "cell_type": "code",
      "execution_count": null,
      "metadata": {
        "id": "RF-UtC4j4wP_"
      },
      "outputs": [],
      "source": [
        "r = open(target_file, 'r')\n",
        "lines = r.readlines()\n",
        "precision = []\n",
        "precision.append(0)\n",
        "recall = []\n",
        "recall.append(0)\n",
        "\n",
        "mAP_1 = [] #По умолчанию: mAP при IoU= 0.65\n",
        "mAP_1.append(0)\n",
        "mAP_2 = [] #mAP при всех IoU из torch.linspace(0.5, 0.95, 10)\n",
        "mAP_2.append(0)\n",
        "\n",
        "for line in lines:\n",
        "    if line != '\\n':\n",
        "        line = line.split()\n",
        "        precision.append(float(line[8]))\n",
        "        recall.append(float(line[9]))\n",
        "        mAP_1.append(float(line[10]))\n",
        "        mAP_2.append(float(line[11]))\n",
        "F1 = []\n",
        "F1.append(0)\n",
        "for i, P in enumerate(precision):\n",
        "    R = recall[i]\n",
        "    if i >0:\n",
        "        F1.append(2*P*R/(P+R))\n",
        "epochs = np.arange(0, len(recall))"
      ]
    },
    {
      "cell_type": "code",
      "execution_count": null,
      "metadata": {
        "id": "rldguMoFIx5o"
      },
      "outputs": [],
      "source": [
        "import numpy as np\n",
        "import matplotlib.pyplot as plt"
      ]
    },
    {
      "cell_type": "code",
      "execution_count": null,
      "metadata": {
        "colab": {
          "base_uri": "https://localhost:8080/",
          "height": 231
        },
        "id": "3AprApjtSadg",
        "outputId": "85f3cf8a-4303-4161-9c22-75f680160f61"
      },
      "outputs": [
        {
          "data": {
            "image/png": "[encoded data removed]",
            "text/plain": [
              "<Figure size 640x480 with 3 Axes>"
            ]
          },
          "metadata": {},
          "output_type": "display_data"
        }
      ],
      "source": [
        "fig, axs = plt.subplots(3, 1)\n",
        "\n",
        "axs[0].scatter(epochs, F1,marker ='^')\n",
        "axs.flat[0].set(ylabel ='F1 score')\n",
        "axs[0].title.set_text('IoU=0.65')\n",
        "axs[1].scatter(epochs, recall,marker ='s')\n",
        "axs.flat[1].set(ylabel ='recall')\n",
        "\n",
        "axs[2].scatter(epochs, precision,marker ='x')\n",
        "axs.flat[2].set(ylabel ='precision')\n",
        "\n",
        "\n",
        "for ax in axs.flat:\n",
        "    ax.set(xlabel='epoch')\n",
        "\n",
        "# Hide x labels and tick labels for top plots and y ticks for right plots.\n",
        "for ax in axs.flat:\n",
        "    ax.label_outer()\n",
        "\n",
        "plt.show()"
      ]
    },
    {
      "cell_type": "code",
      "execution_count": null,
      "metadata": {
        "colab": {
          "base_uri": "https://localhost:8080/",
          "height": 234
        },
        "id": "FNlqbQQ1gfV1",
        "outputId": "3a6bfecc-9119-470b-d212-aef94a554863"
      },
      "outputs": [
        {
          "data": {
            "image/png": "[encoded data removed]",
            "text/plain": [
              "<Figure size 640x480 with 1 Axes>"
            ]
          },
          "metadata": {},
          "output_type": "display_data"
        }
      ],
      "source": [
        "\n",
        "plt.scatter(epochs, mAP_1,  label=\"mAP IoU@.65\")\n",
        "plt.scatter(epochs, mAP_2, label=\"mAP IoU@.5.95\")\n",
        "plt.legend()\n",
        "plt.xlabel(\"epochs\")\n",
        "plt.ylabel(\"mAP\")\n",
        "plt.title(\"mAP vs epochs\")\n",
        "plt.grid(True)\n",
        "plt.show()"
      ]
    },
    {
      "cell_type": "markdown",
      "metadata": {
        "id": "h_ZkS03i4fgN"
      },
      "source": [
        "### FPS , Inference"
      ]
    },
    {
      "cell_type": "code",
      "execution_count": null,
      "metadata": {
        "colab": {
          "base_uri": "https://localhost:8080/"
        },
        "id": "zz_dHfAiFPeU",
        "outputId": "fe800ff4-e4ab-49f1-e77a-6f68ac3ef0db"
      },
      "outputs": [
        {
          "name": "stdout",
          "output_type": "stream",
          "text": [
            "/content/drive/.shortcut-targets-by-id/1o4xA-t9WL4l57kdtunGUcs2dNgvWDulo/yolov7/runs/detect\n"
          ]
        }
      ],
      "source": [
        "%cd /content/drive/MyDrive/Nir/yolov7/runs/detect\n",
        "path_dir = '/content/drive/MyDrive/Nir/yolov7/runs/detect'\n",
        "\n",
        "target_file = path_dir + '/results.txt'\n",
        "Inference = []\n",
        "FPS = []\n",
        "resolution = []\n",
        "r = open(target_file, 'r')\n",
        "lines = r.readlines()\n",
        "\n",
        "for line in lines:\n",
        "    if line != '\\n':\n",
        "        line = line.split()\n",
        "        resolution.append(line[0])\n",
        "        Inference.append(round(float(line[1]), 2))\n",
        "        FPS.append(int(1000 / float(line[1])))"
      ]
    },
    {
      "cell_type": "code",
      "execution_count": null,
      "metadata": {
        "colab": {
          "base_uri": "https://localhost:8080/",
          "height": 236
        },
        "id": "zW--xSBMYyso",
        "outputId": "34f3b774-3a9a-453a-e63a-f64d8d11629c"
      },
      "outputs": [
        {
          "data": {
            "image/png": "[encoded data removed]",
            "text/plain": [
              "<Figure size 640x480 with 1 Axes>"
            ]
          },
          "metadata": {},
          "output_type": "display_data"
        }
      ],
      "source": [
        "\n",
        "plt.bar(resolution, Inference)\n",
        "plt.xlabel(\"resolution image\")\n",
        "plt.title(\"inference time for detecting on Tesla T4\")\n",
        "plt.ylabel(\"ms\")\n",
        "for i, v in enumerate(Inference):\n",
        "    plt.text(i, v + 1, str(v), ha='center', fontweight='bold')\n",
        "\n",
        "plt.show()"
      ]
    },
    {
      "cell_type": "code",
      "execution_count": null,
      "metadata": {
        "colab": {
          "base_uri": "https://localhost:8080/",
          "height": 233
        },
        "id": "dq_SarYXc00o",
        "outputId": "e127dccc-2246-41dd-c21c-8235a04bc12a"
      },
      "outputs": [
        {
          "data": {
            "image/png": "[encoded data removed]",
            "text/plain": [
              "<Figure size 640x480 with 1 Axes>"
            ]
          },
          "metadata": {},
          "output_type": "display_data"
        }
      ],
      "source": [
        "plt.bar(resolution, FPS)\n",
        "plt.xlabel(\"resolution image\")\n",
        "plt.title(\"FPS for detecting on Tesla T4\")\n",
        "for i, v in enumerate(FPS):\n",
        "    plt.text(i, v + 1, str(v), ha='center', fontweight='bold')\n",
        "\n",
        "plt.ylabel(\"FPS\")\n",
        "plt.show()"
      ]
    }
  ],
  "metadata": {
    "accelerator": "GPU",
    "colab": {
      "provenance": [],
      "include_colab_link": true
    },
    "gpuClass": "standard",
    "kernelspec": {
      "display_name": "Python 3",
      "name": "python3"
    },
    "language_info": {
      "name": "python"
    }
  },
  "nbformat": 4,
  "nbformat_minor": 0
}