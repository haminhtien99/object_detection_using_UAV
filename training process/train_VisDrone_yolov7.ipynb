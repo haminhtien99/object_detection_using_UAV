{
  "nbformat": 4,
  "nbformat_minor": 0,
  "metadata": {
    "colab": {
      "provenance": [],
      "include_colab_link": true
    },
    "kernelspec": {
      "name": "python3",
      "display_name": "Python 3"
    },
    "language_info": {
      "name": "python"
    },
    "accelerator": "GPU",
    "gpuClass": "standard"
  },
  "cells": [
    {
      "cell_type": "markdown",
      "metadata": {
        "id": "view-in-github",
        "colab_type": "text"
      },
      "source": [
        "<a href=\"https://colab.research.google.com/github/haminhtien99/object_detection_using_UAV/blob/main/training%20process/train_VisDrone_yolov7.ipynb\" target=\"_parent\"><img src=\"https://colab.research.google.com/assets/colab-badge.svg\" alt=\"Open In Colab\"/></a>"
      ]
    },
    {
      "cell_type": "markdown",
      "source": [
        "### Train yolov7 with VisDrone"
      ],
      "metadata": {
        "id": "sy_pQtSRK0yf"
      }
    },
    {
      "cell_type": "code",
      "source": [
        "from google.colab import drive\n",
        "drive.mount('/content/drive')"
      ],
      "metadata": {
        "colab": {
          "base_uri": "https://localhost:8080/"
        },
        "id": "9wfQDL2bxFJH",
        "outputId": "93b907c8-d8ae-4e45-eccf-f1f653aed9ef"
      },
      "execution_count": 1,
      "outputs": [
        {
          "output_type": "stream",
          "name": "stdout",
          "text": [
            "Mounted at /content/drive\n"
          ]
        }
      ]
    },
    {
      "cell_type": "markdown",
      "source": [
        "Реорганизовать каталог для выполнения программы обучения train_data for yolov7\n",
        "\n",
        "\n",
        "\n",
        "1.   train\n",
        "\n",
        "\n",
        "*   images -- file .jpg\n",
        "\n",
        "*   labels -- file.txt\n",
        "\n",
        "\n",
        "\n",
        "\n",
        "2.   test\n",
        "\n",
        "*   images -- file .jpg\n",
        "\n",
        "*   labels -- file .txt\n"
      ],
      "metadata": {
        "id": "-ML1mohUkprg"
      }
    },
    {
      "cell_type": "code",
      "source": [
        "%cd /content/drive/MyDrive/mipt/Nir/yolov7_train/train_data/VisDrone2019-DET/VisDrone2019-DET-train/labels\n",
        "!ls | wc -l"
      ],
      "metadata": {
        "id": "qDwP6k1TBXAB",
        "outputId": "42ab37d1-358b-413f-9383-fff1181fc52c",
        "colab": {
          "base_uri": "https://localhost:8080/"
        }
      },
      "execution_count": null,
      "outputs": [
        {
          "output_type": "stream",
          "name": "stdout",
          "text": [
            "/content/drive/MyDrive/mipt/Nir/yolov7_train/train_data/VisDrone2019-DET/VisDrone2019-DET-train/labels\n",
            "6471\n"
          ]
        }
      ]
    },
    {
      "cell_type": "code",
      "source": [
        "%cd /content/drive/MyDrive/Nir/yolov7\n",
        "!pip install -r requirements.txt"
      ],
      "metadata": {
        "id": "WZMMTCeFE6qz"
      },
      "execution_count": null,
      "outputs": []
    },
    {
      "cell_type": "code",
      "source": [
        "!cp -r /content/drive/MyDrive/mipt/Nir/train/train_data/VisDrone2019-DET /content"
      ],
      "metadata": {
        "id": "3bqDWt2zjtDK"
      },
      "execution_count": 3,
      "outputs": []
    },
    {
      "cell_type": "code",
      "source": [
        "!cp -r /content/drive/MyDrive/Nir/VisDrone2019-DET /content"
      ],
      "metadata": {
        "id": "Oogndb0JFHoD"
      },
      "execution_count": null,
      "outputs": []
    },
    {
      "cell_type": "code",
      "source": [
        "%cd /content/drive/MyDrive/Nir/yolov7\n",
        "!rm data/mydataset.yaml\n",
        "!echo 'train: /content/VisDrone2019-DET/VisDrone2019-DET-train' >> data/mydataset.yaml\n",
        "!echo 'val: /content/VisDrone2019-DET/VisDrone2019-DET-val' >> data/mydataset.yaml\n",
        "!echo 'test: /content/VisDrone2019-DET/VisDrone2019-DET-test-dev' >> data/mydataset.yaml\n",
        "!echo 'nc: 10' >> data/mydataset.yaml\n",
        "!echo \"names: ['pedestrian', 'people', 'bicycle','car', 'van', 'truck', 'tricycle','awning-tricycle','bus', 'motor']\" >> data/mydataset.yaml"
      ],
      "metadata": {
        "colab": {
          "base_uri": "https://localhost:8080/"
        },
        "id": "RCGhla7rlm9U",
        "outputId": "c76c5b6d-eedc-4df6-aaa3-97fb202e35ab"
      },
      "execution_count": null,
      "outputs": [
        {
          "output_type": "stream",
          "name": "stdout",
          "text": [
            "/content/drive/.shortcut-targets-by-id/1o4xA-t9WL4l57kdtunGUcs2dNgvWDulo/yolov7\n"
          ]
        }
      ]
    },
    {
      "cell_type": "markdown",
      "source": [
        "10 epochs"
      ],
      "metadata": {
        "id": "xPzfJ2bD1cQf"
      }
    },
    {
      "cell_type": "code",
      "source": [
        "%cd /content/drive/MyDrive/mipt/Nir/train/yolov7\n",
        "!python train.py --batch 8 --cfg cfg/training/yolov7.yaml --epochs 10 --data data/mydataset.yaml --weights '/content/drive/MyDrive/mipt/Nir/train/yolov7/runs/train/exp/weights/last.pt'"
      ],
      "metadata": {
        "id": "f6bRaYMC3Bxo",
        "outputId": "f7776b01-f909-4573-bb56-47eb9d3372ea",
        "colab": {
          "base_uri": "https://localhost:8080/"
        }
      },
      "execution_count": 4,
      "outputs": [
        {
          "output_type": "stream",
          "name": "stdout",
          "text": [
            "/content/drive/MyDrive/mipt/Nir/train/yolov7\n",
            "YOLOR 🚀 v0.1-116-g8c0bf3f torch 1.13.1+cu116 CUDA:0 (Tesla T4, 15101.8125MB)\n",
            "\n",
            "Namespace(weights='/content/drive/MyDrive/mipt/Nir/train/yolov7/runs/train/exp/weights/last.pt', cfg='cfg/training/yolov7.yaml', data='data/mydataset.yaml', hyp='data/hyp.scratch.p5.yaml', epochs=10, batch_size=8, img_size=[640, 640], rect=False, resume=False, nosave=False, notest=False, noautoanchor=False, evolve=False, bucket='', cache_images=False, image_weights=False, device='', multi_scale=False, single_cls=False, adam=False, sync_bn=False, local_rank=-1, workers=8, project='runs/train', entity=None, name='exp', exist_ok=False, quad=False, linear_lr=False, label_smoothing=0.0, upload_dataset=False, bbox_interval=-1, save_period=-1, artifact_alias='latest', freeze=[0], v5_metric=False, world_size=1, global_rank=-1, save_dir='runs/train/exp2', total_batch_size=8)\n",
            "\u001b[34m\u001b[1mtensorboard: \u001b[0mStart with 'tensorboard --logdir runs/train', view at http://localhost:6006/\n",
            "2023-03-12 13:09:38.756444: I tensorflow/core/platform/cpu_feature_guard.cc:193] This TensorFlow binary is optimized with oneAPI Deep Neural Network Library (oneDNN) to use the following CPU instructions in performance-critical operations:  AVX2 FMA\n",
            "To enable them in other operations, rebuild TensorFlow with the appropriate compiler flags.\n",
            "2023-03-12 13:09:40.981971: W tensorflow/compiler/xla/stream_executor/platform/default/dso_loader.cc:64] Could not load dynamic library 'libnvinfer.so.7'; dlerror: libnvinfer.so.7: cannot open shared object file: No such file or directory; LD_LIBRARY_PATH: /usr/local/lib/python3.9/dist-packages/cv2/../../lib64:/usr/lib64-nvidia\n",
            "2023-03-12 13:09:40.982117: W tensorflow/compiler/xla/stream_executor/platform/default/dso_loader.cc:64] Could not load dynamic library 'libnvinfer_plugin.so.7'; dlerror: libnvinfer_plugin.so.7: cannot open shared object file: No such file or directory; LD_LIBRARY_PATH: /usr/local/lib/python3.9/dist-packages/cv2/../../lib64:/usr/lib64-nvidia\n",
            "2023-03-12 13:09:40.982138: W tensorflow/compiler/tf2tensorrt/utils/py_utils.cc:38] TF-TRT Warning: Cannot dlopen some TensorRT libraries. If you would like to use Nvidia GPU with TensorRT, please make sure the missing libraries mentioned above are installed properly.\n",
            "\u001b[34m\u001b[1mhyperparameters: \u001b[0mlr0=0.01, lrf=0.1, momentum=0.937, weight_decay=0.0005, warmup_epochs=3.0, warmup_momentum=0.8, warmup_bias_lr=0.1, box=0.05, cls=0.3, cls_pw=1.0, obj=0.7, obj_pw=1.0, iou_t=0.2, anchor_t=4.0, fl_gamma=0.0, hsv_h=0.015, hsv_s=0.7, hsv_v=0.4, degrees=0.0, translate=0.2, scale=0.9, shear=0.0, perspective=0.0, flipud=0.0, fliplr=0.5, mosaic=1.0, mixup=0.15, copy_paste=0.0, paste_in=0.15, loss_ota=1\n",
            "\u001b[34m\u001b[1mwandb: \u001b[0mInstall Weights & Biases for YOLOR logging with 'pip install wandb' (recommended)\n",
            "Overriding model.yaml nc=80 with nc=10\n",
            "\n",
            "                 from  n    params  module                                  arguments                     \n",
            "  0                -1  1       928  models.common.Conv                      [3, 32, 3, 1]                 \n",
            "  1                -1  1     18560  models.common.Conv                      [32, 64, 3, 2]                \n",
            "  2                -1  1     36992  models.common.Conv                      [64, 64, 3, 1]                \n",
            "  3                -1  1     73984  models.common.Conv                      [64, 128, 3, 2]               \n",
            "  4                -1  1      8320  models.common.Conv                      [128, 64, 1, 1]               \n",
            "  5                -2  1      8320  models.common.Conv                      [128, 64, 1, 1]               \n",
            "  6                -1  1     36992  models.common.Conv                      [64, 64, 3, 1]                \n",
            "  7                -1  1     36992  models.common.Conv                      [64, 64, 3, 1]                \n",
            "  8                -1  1     36992  models.common.Conv                      [64, 64, 3, 1]                \n",
            "  9                -1  1     36992  models.common.Conv                      [64, 64, 3, 1]                \n",
            " 10  [-1, -3, -5, -6]  1         0  models.common.Concat                    [1]                           \n",
            " 11                -1  1     66048  models.common.Conv                      [256, 256, 1, 1]              \n",
            " 12                -1  1         0  models.common.MP                        []                            \n",
            " 13                -1  1     33024  models.common.Conv                      [256, 128, 1, 1]              \n",
            " 14                -3  1     33024  models.common.Conv                      [256, 128, 1, 1]              \n",
            " 15                -1  1    147712  models.common.Conv                      [128, 128, 3, 2]              \n",
            " 16          [-1, -3]  1         0  models.common.Concat                    [1]                           \n",
            " 17                -1  1     33024  models.common.Conv                      [256, 128, 1, 1]              \n",
            " 18                -2  1     33024  models.common.Conv                      [256, 128, 1, 1]              \n",
            " 19                -1  1    147712  models.common.Conv                      [128, 128, 3, 1]              \n",
            " 20                -1  1    147712  models.common.Conv                      [128, 128, 3, 1]              \n",
            " 21                -1  1    147712  models.common.Conv                      [128, 128, 3, 1]              \n",
            " 22                -1  1    147712  models.common.Conv                      [128, 128, 3, 1]              \n",
            " 23  [-1, -3, -5, -6]  1         0  models.common.Concat                    [1]                           \n",
            " 24                -1  1    263168  models.common.Conv                      [512, 512, 1, 1]              \n",
            " 25                -1  1         0  models.common.MP                        []                            \n",
            " 26                -1  1    131584  models.common.Conv                      [512, 256, 1, 1]              \n",
            " 27                -3  1    131584  models.common.Conv                      [512, 256, 1, 1]              \n",
            " 28                -1  1    590336  models.common.Conv                      [256, 256, 3, 2]              \n",
            " 29          [-1, -3]  1         0  models.common.Concat                    [1]                           \n",
            " 30                -1  1    131584  models.common.Conv                      [512, 256, 1, 1]              \n",
            " 31                -2  1    131584  models.common.Conv                      [512, 256, 1, 1]              \n",
            " 32                -1  1    590336  models.common.Conv                      [256, 256, 3, 1]              \n",
            " 33                -1  1    590336  models.common.Conv                      [256, 256, 3, 1]              \n",
            " 34                -1  1    590336  models.common.Conv                      [256, 256, 3, 1]              \n",
            " 35                -1  1    590336  models.common.Conv                      [256, 256, 3, 1]              \n",
            " 36  [-1, -3, -5, -6]  1         0  models.common.Concat                    [1]                           \n",
            " 37                -1  1   1050624  models.common.Conv                      [1024, 1024, 1, 1]            \n",
            " 38                -1  1         0  models.common.MP                        []                            \n",
            " 39                -1  1    525312  models.common.Conv                      [1024, 512, 1, 1]             \n",
            " 40                -3  1    525312  models.common.Conv                      [1024, 512, 1, 1]             \n",
            " 41                -1  1   2360320  models.common.Conv                      [512, 512, 3, 2]              \n",
            " 42          [-1, -3]  1         0  models.common.Concat                    [1]                           \n",
            " 43                -1  1    262656  models.common.Conv                      [1024, 256, 1, 1]             \n",
            " 44                -2  1    262656  models.common.Conv                      [1024, 256, 1, 1]             \n",
            " 45                -1  1    590336  models.common.Conv                      [256, 256, 3, 1]              \n",
            " 46                -1  1    590336  models.common.Conv                      [256, 256, 3, 1]              \n",
            " 47                -1  1    590336  models.common.Conv                      [256, 256, 3, 1]              \n",
            " 48                -1  1    590336  models.common.Conv                      [256, 256, 3, 1]              \n",
            " 49  [-1, -3, -5, -6]  1         0  models.common.Concat                    [1]                           \n",
            " 50                -1  1   1050624  models.common.Conv                      [1024, 1024, 1, 1]            \n",
            " 51                -1  1   7609344  models.common.SPPCSPC                   [1024, 512, 1]                \n",
            " 52                -1  1    131584  models.common.Conv                      [512, 256, 1, 1]              \n",
            " 53                -1  1         0  torch.nn.modules.upsampling.Upsample    [None, 2, 'nearest']          \n",
            " 54                37  1    262656  models.common.Conv                      [1024, 256, 1, 1]             \n",
            " 55          [-1, -2]  1         0  models.common.Concat                    [1]                           \n",
            " 56                -1  1    131584  models.common.Conv                      [512, 256, 1, 1]              \n",
            " 57                -2  1    131584  models.common.Conv                      [512, 256, 1, 1]              \n",
            " 58                -1  1    295168  models.common.Conv                      [256, 128, 3, 1]              \n",
            " 59                -1  1    147712  models.common.Conv                      [128, 128, 3, 1]              \n",
            " 60                -1  1    147712  models.common.Conv                      [128, 128, 3, 1]              \n",
            " 61                -1  1    147712  models.common.Conv                      [128, 128, 3, 1]              \n",
            " 62[-1, -2, -3, -4, -5, -6]  1         0  models.common.Concat                    [1]                           \n",
            " 63                -1  1    262656  models.common.Conv                      [1024, 256, 1, 1]             \n",
            " 64                -1  1     33024  models.common.Conv                      [256, 128, 1, 1]              \n",
            " 65                -1  1         0  torch.nn.modules.upsampling.Upsample    [None, 2, 'nearest']          \n",
            " 66                24  1     65792  models.common.Conv                      [512, 128, 1, 1]              \n",
            " 67          [-1, -2]  1         0  models.common.Concat                    [1]                           \n",
            " 68                -1  1     33024  models.common.Conv                      [256, 128, 1, 1]              \n",
            " 69                -2  1     33024  models.common.Conv                      [256, 128, 1, 1]              \n",
            " 70                -1  1     73856  models.common.Conv                      [128, 64, 3, 1]               \n",
            " 71                -1  1     36992  models.common.Conv                      [64, 64, 3, 1]                \n",
            " 72                -1  1     36992  models.common.Conv                      [64, 64, 3, 1]                \n",
            " 73                -1  1     36992  models.common.Conv                      [64, 64, 3, 1]                \n",
            " 74[-1, -2, -3, -4, -5, -6]  1         0  models.common.Concat                    [1]                           \n",
            " 75                -1  1     65792  models.common.Conv                      [512, 128, 1, 1]              \n",
            " 76                -1  1         0  models.common.MP                        []                            \n",
            " 77                -1  1     16640  models.common.Conv                      [128, 128, 1, 1]              \n",
            " 78                -3  1     16640  models.common.Conv                      [128, 128, 1, 1]              \n",
            " 79                -1  1    147712  models.common.Conv                      [128, 128, 3, 2]              \n",
            " 80      [-1, -3, 63]  1         0  models.common.Concat                    [1]                           \n",
            " 81                -1  1    131584  models.common.Conv                      [512, 256, 1, 1]              \n",
            " 82                -2  1    131584  models.common.Conv                      [512, 256, 1, 1]              \n",
            " 83                -1  1    295168  models.common.Conv                      [256, 128, 3, 1]              \n",
            " 84                -1  1    147712  models.common.Conv                      [128, 128, 3, 1]              \n",
            " 85                -1  1    147712  models.common.Conv                      [128, 128, 3, 1]              \n",
            " 86                -1  1    147712  models.common.Conv                      [128, 128, 3, 1]              \n",
            " 87[-1, -2, -3, -4, -5, -6]  1         0  models.common.Concat                    [1]                           \n",
            " 88                -1  1    262656  models.common.Conv                      [1024, 256, 1, 1]             \n",
            " 89                -1  1         0  models.common.MP                        []                            \n",
            " 90                -1  1     66048  models.common.Conv                      [256, 256, 1, 1]              \n",
            " 91                -3  1     66048  models.common.Conv                      [256, 256, 1, 1]              \n",
            " 92                -1  1    590336  models.common.Conv                      [256, 256, 3, 2]              \n",
            " 93      [-1, -3, 51]  1         0  models.common.Concat                    [1]                           \n",
            " 94                -1  1    525312  models.common.Conv                      [1024, 512, 1, 1]             \n",
            " 95                -2  1    525312  models.common.Conv                      [1024, 512, 1, 1]             \n",
            " 96                -1  1   1180160  models.common.Conv                      [512, 256, 3, 1]              \n",
            " 97                -1  1    590336  models.common.Conv                      [256, 256, 3, 1]              \n",
            " 98                -1  1    590336  models.common.Conv                      [256, 256, 3, 1]              \n",
            " 99                -1  1    590336  models.common.Conv                      [256, 256, 3, 1]              \n",
            "100[-1, -2, -3, -4, -5, -6]  1         0  models.common.Concat                    [1]                           \n",
            "101                -1  1   1049600  models.common.Conv                      [2048, 512, 1, 1]             \n",
            "102                75  1    328704  models.common.RepConv                   [128, 256, 3, 1]              \n",
            "103                88  1   1312768  models.common.RepConv                   [256, 512, 3, 1]              \n",
            "104               101  1   5246976  models.common.RepConv                   [512, 1024, 3, 1]             \n",
            "105   [102, 103, 104]  1     82702  models.yolo.IDetect                     [10, [[12, 16, 19, 36, 40, 28], [36, 75, 76, 55, 72, 146], [142, 110, 192, 243, 459, 401]], [256, 512, 1024]]\n",
            "Model Summary: 415 layers, 37245102 parameters, 37245102 gradients\n",
            "\n",
            "Transferred 564/566 items from /content/drive/MyDrive/mipt/Nir/train/yolov7/runs/train/exp/weights/last.pt\n",
            "Scaled weight_decay = 0.0005\n",
            "Optimizer groups: 95 .bias, 95 conv.weight, 98 other\n",
            "\u001b[34m\u001b[1mtrain: \u001b[0mScanning '/content/VisDrone2019-DET/VisDrone2019-DET-train/labels' images and labels... 197 found, 0 missing, 0 empty, 0 corrupted:   3% 197/6471 [00:00<00:03, 1961.93it/s]\u001b[34m\u001b[1mtrain: \u001b[0mWARNING: Ignoring corrupted image and/or label /content/VisDrone2019-DET/VisDrone2019-DET-train/images/0000137_02220_d_0000163.jpg: duplicate labels\n",
            "\u001b[34m\u001b[1mtrain: \u001b[0mWARNING: Ignoring corrupted image and/or label /content/VisDrone2019-DET/VisDrone2019-DET-train/images/0000140_00118_d_0000002.jpg: duplicate labels\n",
            "\u001b[34m\u001b[1mtrain: \u001b[0mScanning '/content/VisDrone2019-DET/VisDrone2019-DET-train/labels' images and labels... 1894 found, 0 missing, 0 empty, 2 corrupted:  29% 1894/6471 [00:00<00:01, 2501.25it/s]\u001b[34m\u001b[1mtrain: \u001b[0mWARNING: Ignoring corrupted image and/or label /content/VisDrone2019-DET/VisDrone2019-DET-train/images/9999945_00000_d_0000114.jpg: duplicate labels\n",
            "\u001b[34m\u001b[1mtrain: \u001b[0mScanning '/content/VisDrone2019-DET/VisDrone2019-DET-train/labels' images and labels... 5305 found, 0 missing, 0 empty, 3 corrupted:  82% 5305/6471 [00:05<00:02, 548.77it/s]\u001b[34m\u001b[1mtrain: \u001b[0mWARNING: Ignoring corrupted image and/or label /content/VisDrone2019-DET/VisDrone2019-DET-train/images/9999987_00000_d_0000049.jpg: duplicate labels\n",
            "\u001b[34m\u001b[1mtrain: \u001b[0mScanning '/content/VisDrone2019-DET/VisDrone2019-DET-train/labels' images and labels... 6471 found, 0 missing, 0 empty, 4 corrupted: 100% 6471/6471 [00:07<00:00, 820.81it/s]\n",
            "\u001b[34m\u001b[1mtrain: \u001b[0mNew cache created: /content/VisDrone2019-DET/VisDrone2019-DET-train/labels.cache\n",
            "\u001b[34m\u001b[1mval: \u001b[0mScanning '/content/VisDrone2019-DET/VisDrone2019-DET-val/labels' images and labels... 548 found, 0 missing, 0 empty, 0 corrupted: 100% 548/548 [00:00<00:00, 1013.40it/s]\n",
            "\u001b[34m\u001b[1mval: \u001b[0mNew cache created: /content/VisDrone2019-DET/VisDrone2019-DET-val/labels.cache\n",
            "\n",
            "\u001b[34m\u001b[1mautoanchor: \u001b[0mAnalyzing anchors... anchors/target = 2.52, Best Possible Recall (BPR) = 0.8861. Attempting to improve anchors, please wait...\n",
            "\u001b[34m\u001b[1mautoanchor: \u001b[0mWARNING: Extremely small objects found. 29514 of 342391 labels are < 3 pixels in size.\n",
            "\u001b[34m\u001b[1mautoanchor: \u001b[0mRunning kmeans for 9 anchors on 341494 points...\n",
            "\u001b[34m\u001b[1mautoanchor: \u001b[0mthr=0.25: 0.9981 best possible recall, 5.24 anchors past thr\n",
            "\u001b[34m\u001b[1mautoanchor: \u001b[0mn=9, img_size=640, metric_all=0.339/0.726-mean/best, past_thr=0.481-mean: 5,5,  7,11,  15,9,  11,19,  28,16,  21,31,  51,28,  38,55,  90,72\n",
            "\u001b[34m\u001b[1mautoanchor: \u001b[0mEvolving anchors with Genetic Algorithm: fitness = 0.7530: 100% 1000/1000 [01:17<00:00, 12.95it/s]\n",
            "\u001b[34m\u001b[1mautoanchor: \u001b[0mthr=0.25: 0.9995 best possible recall, 5.86 anchors past thr\n",
            "\u001b[34m\u001b[1mautoanchor: \u001b[0mn=9, img_size=640, metric_all=0.369/0.752-mean/best, past_thr=0.485-mean: 3,4,  4,9,  8,7,  8,14,  16,9,  14,18,  31,17,  25,33,  58,42\n",
            "\u001b[34m\u001b[1mautoanchor: \u001b[0mNew anchors saved to model. Update model *.yaml to use these anchors in the future.\n",
            "\n",
            "Image sizes 640 train, 640 test\n",
            "Using 2 dataloader workers\n",
            "Logging results to runs/train/exp2\n",
            "Starting training for 10 epochs...\n",
            "\n",
            "     Epoch   gpu_mem       box       obj       cls     total    labels  img_size\n",
            "       0/9      7.4G   0.04017   0.06391  0.007797    0.1119       135       640: 100% 809/809 [17:38<00:00,  1.31s/it]\n",
            "               Class      Images      Labels           P           R      mAP@.5  mAP@.5:.95:   0% 0/35 [00:00<?, ?it/s]/usr/local/lib/python3.9/dist-packages/torch/functional.py:504: UserWarning: torch.meshgrid: in an upcoming release, it will be required to pass the indexing argument. (Triggered internally at ../aten/src/ATen/native/TensorShape.cpp:3190.)\n",
            "  return _VF.meshgrid(tensors, **kwargs)  # type: ignore[attr-defined]\n",
            "               Class      Images      Labels           P           R      mAP@.5  mAP@.5:.95: 100% 35/35 [00:22<00:00,  1.54it/s]\n",
            "                 all         548       38759       0.518       0.423       0.409       0.225\n",
            "\n",
            "     Epoch   gpu_mem       box       obj       cls     total    labels  img_size\n",
            "       1/9     7.56G   0.04031   0.06462  0.007805    0.1127       232       640: 100% 809/809 [16:54<00:00,  1.25s/it]\n",
            "               Class      Images      Labels           P           R      mAP@.5  mAP@.5:.95: 100% 35/35 [00:21<00:00,  1.61it/s]\n",
            "                 all         548       38759       0.507       0.428        0.41       0.223\n",
            "\n",
            "     Epoch   gpu_mem       box       obj       cls     total    labels  img_size\n",
            "       2/9     8.12G   0.04229   0.06576  0.008035    0.1161       309       640: 100% 809/809 [16:30<00:00,  1.22s/it]\n",
            "               Class      Images      Labels           P           R      mAP@.5  mAP@.5:.95: 100% 35/35 [00:21<00:00,  1.62it/s]\n",
            "                 all         548       38759       0.494         0.4        0.38       0.204\n",
            "\n",
            "     Epoch   gpu_mem       box       obj       cls     total    labels  img_size\n",
            "       3/9     8.94G   0.04223   0.06537  0.008057    0.1157       160       640: 100% 809/809 [16:05<00:00,  1.19s/it]\n",
            "               Class      Images      Labels           P           R      mAP@.5  mAP@.5:.95: 100% 35/35 [00:21<00:00,  1.61it/s]\n",
            "                 all         548       38759       0.496        0.41       0.383       0.199\n",
            "\n",
            "     Epoch   gpu_mem       box       obj       cls     total    labels  img_size\n",
            "       4/9     8.94G   0.04185   0.06552  0.007713    0.1151       188       640: 100% 809/809 [16:12<00:00,  1.20s/it]\n",
            "               Class      Images      Labels           P           R      mAP@.5  mAP@.5:.95: 100% 35/35 [00:21<00:00,  1.62it/s]\n",
            "                 all         548       38759       0.476       0.425       0.389       0.206\n",
            "\n",
            "     Epoch   gpu_mem       box       obj       cls     total    labels  img_size\n",
            "       5/9     8.94G   0.04123   0.06537  0.007477    0.1141       275       640: 100% 809/809 [16:16<00:00,  1.21s/it]\n",
            "               Class      Images      Labels           P           R      mAP@.5  mAP@.5:.95: 100% 35/35 [00:20<00:00,  1.70it/s]\n",
            "                 all         548       38759       0.488       0.432         0.4       0.217\n",
            "\n",
            "     Epoch   gpu_mem       box       obj       cls     total    labels  img_size\n",
            "       6/9     8.94G    0.0405   0.06448  0.007072     0.112       297       640: 100% 809/809 [16:06<00:00,  1.19s/it]\n",
            "               Class      Images      Labels           P           R      mAP@.5  mAP@.5:.95: 100% 35/35 [00:18<00:00,  1.88it/s]\n",
            "                 all         548       38759       0.517       0.433       0.413       0.224\n",
            "\n",
            "     Epoch   gpu_mem       box       obj       cls     total    labels  img_size\n",
            "       7/9     8.94G   0.04009    0.0663   0.00686    0.1132       250       640: 100% 809/809 [16:17<00:00,  1.21s/it]\n",
            "               Class      Images      Labels           P           R      mAP@.5  mAP@.5:.95: 100% 35/35 [00:21<00:00,  1.63it/s]\n",
            "                 all         548       38759       0.513       0.446       0.421        0.23\n",
            "\n",
            "     Epoch   gpu_mem       box       obj       cls     total    labels  img_size\n",
            "       8/9     8.94G   0.03969   0.06475  0.006741    0.1112        78       640: 100% 809/809 [16:07<00:00,  1.20s/it]\n",
            "               Class      Images      Labels           P           R      mAP@.5  mAP@.5:.95: 100% 35/35 [00:19<00:00,  1.83it/s]\n",
            "                 all         548       38759       0.543       0.439        0.43       0.239\n",
            "\n",
            "     Epoch   gpu_mem       box       obj       cls     total    labels  img_size\n",
            "       9/9     8.94G   0.03962   0.06468  0.006659     0.111       189       640: 100% 809/809 [16:10<00:00,  1.20s/it]\n",
            "               Class      Images      Labels           P           R      mAP@.5  mAP@.5:.95: 100% 35/35 [00:31<00:00,  1.10it/s]\n",
            "                 all         548       38759       0.543       0.448       0.441       0.248\n",
            "          pedestrian         548        8844       0.594       0.508       0.519       0.228\n",
            "              people         548        5125       0.574       0.445       0.444       0.164\n",
            "             bicycle         548        1287       0.309         0.2        0.17      0.0704\n",
            "                 car         548       14064       0.787       0.798       0.821        0.55\n",
            "                 van         548        1975       0.501       0.479        0.46       0.314\n",
            "               truck         548         750       0.582       0.428       0.429       0.276\n",
            "            tricycle         548        1045       0.466       0.322       0.292       0.156\n",
            "     awning-tricycle         548         532       0.259        0.25       0.159      0.0998\n",
            "                 bus         548         251       0.756       0.518       0.584       0.395\n",
            "               motor         548        4886       0.607       0.534       0.535       0.225\n",
            "10 epochs completed in 2.810 hours.\n",
            "\n",
            "Optimizer stripped from runs/train/exp2/weights/last.pt, 74.8MB\n",
            "Optimizer stripped from runs/train/exp2/weights/best.pt, 74.8MB\n"
          ]
        }
      ]
    },
    {
      "cell_type": "code",
      "source": [
        "%cd /content/drive/MyDrive/Nir/yolov7\n",
        "!python train.py --batch 8 --cfg cfg/training/yolov7.yaml --epochs 10 --data data/mydataset.yaml --weights '/content/drive/MyDrive/Nir/yolov7/pretrain/yolov7.pt'"
      ],
      "metadata": {
        "id": "bVHDDmvxlmeW",
        "outputId": "04fe07e5-10ea-48c5-d704-e5119fd4bdc8",
        "colab": {
          "base_uri": "https://localhost:8080/"
        }
      },
      "execution_count": null,
      "outputs": [
        {
          "output_type": "stream",
          "name": "stdout",
          "text": [
            "/content/drive/.shortcut-targets-by-id/1o4xA-t9WL4l57kdtunGUcs2dNgvWDulo/yolov7\n",
            "YOLOR 🚀 v0.1-116-g8c0bf3f torch 1.13.1+cu116 CUDA:0 (Tesla T4, 15101.8125MB)\n",
            "\n",
            "Namespace(weights='/content/drive/MyDrive/Nir/yolov7/pretrain/yolov7.pt', cfg='cfg/training/yolov7.yaml', data='data/mydataset.yaml', hyp='data/hyp.scratch.p5.yaml', epochs=10, batch_size=8, img_size=[640, 640], rect=False, resume=False, nosave=False, notest=False, noautoanchor=False, evolve=False, bucket='', cache_images=False, image_weights=False, device='', multi_scale=False, single_cls=False, adam=False, sync_bn=False, local_rank=-1, workers=8, project='runs/train', entity=None, name='exp', exist_ok=False, quad=False, linear_lr=False, label_smoothing=0.0, upload_dataset=False, bbox_interval=-1, save_period=-1, artifact_alias='latest', freeze=[0], v5_metric=False, world_size=1, global_rank=-1, save_dir='runs/train/exp', total_batch_size=8)\n",
            "\u001b[34m\u001b[1mtensorboard: \u001b[0mStart with 'tensorboard --logdir runs/train', view at http://localhost:6006/\n",
            "2023-03-12 09:21:30.422714: I tensorflow/core/platform/cpu_feature_guard.cc:193] This TensorFlow binary is optimized with oneAPI Deep Neural Network Library (oneDNN) to use the following CPU instructions in performance-critical operations:  AVX2 AVX512F FMA\n",
            "To enable them in other operations, rebuild TensorFlow with the appropriate compiler flags.\n",
            "2023-03-12 09:21:33.163603: W tensorflow/compiler/xla/stream_executor/platform/default/dso_loader.cc:64] Could not load dynamic library 'libnvinfer.so.7'; dlerror: libnvinfer.so.7: cannot open shared object file: No such file or directory; LD_LIBRARY_PATH: /usr/local/lib/python3.9/dist-packages/cv2/../../lib64:/usr/lib64-nvidia\n",
            "2023-03-12 09:21:33.163776: W tensorflow/compiler/xla/stream_executor/platform/default/dso_loader.cc:64] Could not load dynamic library 'libnvinfer_plugin.so.7'; dlerror: libnvinfer_plugin.so.7: cannot open shared object file: No such file or directory; LD_LIBRARY_PATH: /usr/local/lib/python3.9/dist-packages/cv2/../../lib64:/usr/lib64-nvidia\n",
            "2023-03-12 09:21:33.163805: W tensorflow/compiler/tf2tensorrt/utils/py_utils.cc:38] TF-TRT Warning: Cannot dlopen some TensorRT libraries. If you would like to use Nvidia GPU with TensorRT, please make sure the missing libraries mentioned above are installed properly.\n",
            "\u001b[34m\u001b[1mhyperparameters: \u001b[0mlr0=0.01, lrf=0.1, momentum=0.937, weight_decay=0.0005, warmup_epochs=3.0, warmup_momentum=0.8, warmup_bias_lr=0.1, box=0.05, cls=0.3, cls_pw=1.0, obj=0.7, obj_pw=1.0, iou_t=0.2, anchor_t=4.0, fl_gamma=0.0, hsv_h=0.015, hsv_s=0.7, hsv_v=0.4, degrees=0.0, translate=0.2, scale=0.9, shear=0.0, perspective=0.0, flipud=0.0, fliplr=0.5, mosaic=1.0, mixup=0.15, copy_paste=0.0, paste_in=0.15, loss_ota=1\n",
            "\u001b[34m\u001b[1mwandb: \u001b[0mInstall Weights & Biases for YOLOR logging with 'pip install wandb' (recommended)\n",
            "Downloading https://github.com/WongKinYiu/yolov7/releases/download/v0.1/yolov7.pt to /content/drive/mydrive/nir/yolov7/pretrain/yolov7.pt...\n",
            "Download error: [Errno 2] No such file or directory: '/content/drive/mydrive/nir/yolov7/pretrain/tmpzpl79ccb'\n",
            "ERROR: Download failure: /content/drive/mydrive/nir/yolov7/pretrain/yolov7.pt missing, try downloading from https://github.com/WongKinYiu/yolov7/releases/\n",
            "\n",
            "Overriding model.yaml nc=80 with nc=10\n",
            "\n",
            "                 from  n    params  module                                  arguments                     \n",
            "  0                -1  1       928  models.common.Conv                      [3, 32, 3, 1]                 \n",
            "  1                -1  1     18560  models.common.Conv                      [32, 64, 3, 2]                \n",
            "  2                -1  1     36992  models.common.Conv                      [64, 64, 3, 1]                \n",
            "  3                -1  1     73984  models.common.Conv                      [64, 128, 3, 2]               \n",
            "  4                -1  1      8320  models.common.Conv                      [128, 64, 1, 1]               \n",
            "  5                -2  1      8320  models.common.Conv                      [128, 64, 1, 1]               \n",
            "  6                -1  1     36992  models.common.Conv                      [64, 64, 3, 1]                \n",
            "  7                -1  1     36992  models.common.Conv                      [64, 64, 3, 1]                \n",
            "  8                -1  1     36992  models.common.Conv                      [64, 64, 3, 1]                \n",
            "  9                -1  1     36992  models.common.Conv                      [64, 64, 3, 1]                \n",
            " 10  [-1, -3, -5, -6]  1         0  models.common.Concat                    [1]                           \n",
            " 11                -1  1     66048  models.common.Conv                      [256, 256, 1, 1]              \n",
            " 12                -1  1         0  models.common.MP                        []                            \n",
            " 13                -1  1     33024  models.common.Conv                      [256, 128, 1, 1]              \n",
            " 14                -3  1     33024  models.common.Conv                      [256, 128, 1, 1]              \n",
            " 15                -1  1    147712  models.common.Conv                      [128, 128, 3, 2]              \n",
            " 16          [-1, -3]  1         0  models.common.Concat                    [1]                           \n",
            " 17                -1  1     33024  models.common.Conv                      [256, 128, 1, 1]              \n",
            " 18                -2  1     33024  models.common.Conv                      [256, 128, 1, 1]              \n",
            " 19                -1  1    147712  models.common.Conv                      [128, 128, 3, 1]              \n",
            " 20                -1  1    147712  models.common.Conv                      [128, 128, 3, 1]              \n",
            " 21                -1  1    147712  models.common.Conv                      [128, 128, 3, 1]              \n",
            " 22                -1  1    147712  models.common.Conv                      [128, 128, 3, 1]              \n",
            " 23  [-1, -3, -5, -6]  1         0  models.common.Concat                    [1]                           \n",
            " 24                -1  1    263168  models.common.Conv                      [512, 512, 1, 1]              \n",
            " 25                -1  1         0  models.common.MP                        []                            \n",
            " 26                -1  1    131584  models.common.Conv                      [512, 256, 1, 1]              \n",
            " 27                -3  1    131584  models.common.Conv                      [512, 256, 1, 1]              \n",
            " 28                -1  1    590336  models.common.Conv                      [256, 256, 3, 2]              \n",
            " 29          [-1, -3]  1         0  models.common.Concat                    [1]                           \n",
            " 30                -1  1    131584  models.common.Conv                      [512, 256, 1, 1]              \n",
            " 31                -2  1    131584  models.common.Conv                      [512, 256, 1, 1]              \n",
            " 32                -1  1    590336  models.common.Conv                      [256, 256, 3, 1]              \n",
            " 33                -1  1    590336  models.common.Conv                      [256, 256, 3, 1]              \n",
            " 34                -1  1    590336  models.common.Conv                      [256, 256, 3, 1]              \n",
            " 35                -1  1    590336  models.common.Conv                      [256, 256, 3, 1]              \n",
            " 36  [-1, -3, -5, -6]  1         0  models.common.Concat                    [1]                           \n",
            " 37                -1  1   1050624  models.common.Conv                      [1024, 1024, 1, 1]            \n",
            " 38                -1  1         0  models.common.MP                        []                            \n",
            " 39                -1  1    525312  models.common.Conv                      [1024, 512, 1, 1]             \n",
            " 40                -3  1    525312  models.common.Conv                      [1024, 512, 1, 1]             \n",
            " 41                -1  1   2360320  models.common.Conv                      [512, 512, 3, 2]              \n",
            " 42          [-1, -3]  1         0  models.common.Concat                    [1]                           \n",
            " 43                -1  1    262656  models.common.Conv                      [1024, 256, 1, 1]             \n",
            " 44                -2  1    262656  models.common.Conv                      [1024, 256, 1, 1]             \n",
            " 45                -1  1    590336  models.common.Conv                      [256, 256, 3, 1]              \n",
            " 46                -1  1    590336  models.common.Conv                      [256, 256, 3, 1]              \n",
            " 47                -1  1    590336  models.common.Conv                      [256, 256, 3, 1]              \n",
            " 48                -1  1    590336  models.common.Conv                      [256, 256, 3, 1]              \n",
            " 49  [-1, -3, -5, -6]  1         0  models.common.Concat                    [1]                           \n",
            " 50                -1  1   1050624  models.common.Conv                      [1024, 1024, 1, 1]            \n",
            " 51                -1  1   7609344  models.common.SPPCSPC                   [1024, 512, 1]                \n",
            " 52                -1  1    131584  models.common.Conv                      [512, 256, 1, 1]              \n",
            " 53                -1  1         0  torch.nn.modules.upsampling.Upsample    [None, 2, 'nearest']          \n",
            " 54                37  1    262656  models.common.Conv                      [1024, 256, 1, 1]             \n",
            " 55          [-1, -2]  1         0  models.common.Concat                    [1]                           \n",
            " 56                -1  1    131584  models.common.Conv                      [512, 256, 1, 1]              \n",
            " 57                -2  1    131584  models.common.Conv                      [512, 256, 1, 1]              \n",
            " 58                -1  1    295168  models.common.Conv                      [256, 128, 3, 1]              \n",
            " 59                -1  1    147712  models.common.Conv                      [128, 128, 3, 1]              \n",
            " 60                -1  1    147712  models.common.Conv                      [128, 128, 3, 1]              \n",
            " 61                -1  1    147712  models.common.Conv                      [128, 128, 3, 1]              \n",
            " 62[-1, -2, -3, -4, -5, -6]  1         0  models.common.Concat                    [1]                           \n",
            " 63                -1  1    262656  models.common.Conv                      [1024, 256, 1, 1]             \n",
            " 64                -1  1     33024  models.common.Conv                      [256, 128, 1, 1]              \n",
            " 65                -1  1         0  torch.nn.modules.upsampling.Upsample    [None, 2, 'nearest']          \n",
            " 66                24  1     65792  models.common.Conv                      [512, 128, 1, 1]              \n",
            " 67          [-1, -2]  1         0  models.common.Concat                    [1]                           \n",
            " 68                -1  1     33024  models.common.Conv                      [256, 128, 1, 1]              \n",
            " 69                -2  1     33024  models.common.Conv                      [256, 128, 1, 1]              \n",
            " 70                -1  1     73856  models.common.Conv                      [128, 64, 3, 1]               \n",
            " 71                -1  1     36992  models.common.Conv                      [64, 64, 3, 1]                \n",
            " 72                -1  1     36992  models.common.Conv                      [64, 64, 3, 1]                \n",
            " 73                -1  1     36992  models.common.Conv                      [64, 64, 3, 1]                \n",
            " 74[-1, -2, -3, -4, -5, -6]  1         0  models.common.Concat                    [1]                           \n",
            " 75                -1  1     65792  models.common.Conv                      [512, 128, 1, 1]              \n",
            " 76                -1  1         0  models.common.MP                        []                            \n",
            " 77                -1  1     16640  models.common.Conv                      [128, 128, 1, 1]              \n",
            " 78                -3  1     16640  models.common.Conv                      [128, 128, 1, 1]              \n",
            " 79                -1  1    147712  models.common.Conv                      [128, 128, 3, 2]              \n",
            " 80      [-1, -3, 63]  1         0  models.common.Concat                    [1]                           \n",
            " 81                -1  1    131584  models.common.Conv                      [512, 256, 1, 1]              \n",
            " 82                -2  1    131584  models.common.Conv                      [512, 256, 1, 1]              \n",
            " 83                -1  1    295168  models.common.Conv                      [256, 128, 3, 1]              \n",
            " 84                -1  1    147712  models.common.Conv                      [128, 128, 3, 1]              \n",
            " 85                -1  1    147712  models.common.Conv                      [128, 128, 3, 1]              \n",
            " 86                -1  1    147712  models.common.Conv                      [128, 128, 3, 1]              \n",
            " 87[-1, -2, -3, -4, -5, -6]  1         0  models.common.Concat                    [1]                           \n",
            " 88                -1  1    262656  models.common.Conv                      [1024, 256, 1, 1]             \n",
            " 89                -1  1         0  models.common.MP                        []                            \n",
            " 90                -1  1     66048  models.common.Conv                      [256, 256, 1, 1]              \n",
            " 91                -3  1     66048  models.common.Conv                      [256, 256, 1, 1]              \n",
            " 92                -1  1    590336  models.common.Conv                      [256, 256, 3, 2]              \n",
            " 93      [-1, -3, 51]  1         0  models.common.Concat                    [1]                           \n",
            " 94                -1  1    525312  models.common.Conv                      [1024, 512, 1, 1]             \n",
            " 95                -2  1    525312  models.common.Conv                      [1024, 512, 1, 1]             \n",
            " 96                -1  1   1180160  models.common.Conv                      [512, 256, 3, 1]              \n",
            " 97                -1  1    590336  models.common.Conv                      [256, 256, 3, 1]              \n",
            " 98                -1  1    590336  models.common.Conv                      [256, 256, 3, 1]              \n",
            " 99                -1  1    590336  models.common.Conv                      [256, 256, 3, 1]              \n",
            "100[-1, -2, -3, -4, -5, -6]  1         0  models.common.Concat                    [1]                           \n",
            "101                -1  1   1049600  models.common.Conv                      [2048, 512, 1, 1]             \n",
            "102                75  1    328704  models.common.RepConv                   [128, 256, 3, 1]              \n",
            "103                88  1   1312768  models.common.RepConv                   [256, 512, 3, 1]              \n",
            "104               101  1   5246976  models.common.RepConv                   [512, 1024, 3, 1]             \n",
            "105   [102, 103, 104]  1     82702  models.yolo.IDetect                     [10, [[12, 16, 19, 36, 40, 28], [36, 75, 76, 55, 72, 146], [142, 110, 192, 243, 459, 401]], [256, 512, 1024]]\n",
            "/usr/local/lib/python3.9/dist-packages/torch/functional.py:504: UserWarning: torch.meshgrid: in an upcoming release, it will be required to pass the indexing argument. (Triggered internally at ../aten/src/ATen/native/TensorShape.cpp:3190.)\n",
            "  return _VF.meshgrid(tensors, **kwargs)  # type: ignore[attr-defined]\n",
            "Model Summary: 415 layers, 37245102 parameters, 37245102 gradients, 105.3 GFLOPS\n",
            "\n",
            "Transferred 552/566 items from /content/drive/MyDrive/Nir/yolov7/pretrain/yolov7.pt\n",
            "Scaled weight_decay = 0.0005\n",
            "Optimizer groups: 95 .bias, 95 conv.weight, 98 other\n",
            "\u001b[34m\u001b[1mtrain: \u001b[0mScanning '/content/VisDrone2019-DET/VisDrone2019-DET-train/labels' images and labels... 190 found, 0 missing, 0 empty, 0 corrupted:   3% 190/6471 [00:00<00:03, 1892.39it/s]\u001b[34m\u001b[1mtrain: \u001b[0mWARNING: Ignoring corrupted image and/or label /content/VisDrone2019-DET/VisDrone2019-DET-train/images/0000137_02220_d_0000163.jpg: duplicate labels\n",
            "\u001b[34m\u001b[1mtrain: \u001b[0mWARNING: Ignoring corrupted image and/or label /content/VisDrone2019-DET/VisDrone2019-DET-train/images/0000140_00118_d_0000002.jpg: duplicate labels\n",
            "\u001b[34m\u001b[1mtrain: \u001b[0mScanning '/content/VisDrone2019-DET/VisDrone2019-DET-train/labels' images and labels... 1985 found, 0 missing, 0 empty, 2 corrupted:  31% 1985/6471 [00:00<00:01, 2331.31it/s]\u001b[34m\u001b[1mtrain: \u001b[0mWARNING: Ignoring corrupted image and/or label /content/VisDrone2019-DET/VisDrone2019-DET-train/images/9999945_00000_d_0000114.jpg: duplicate labels\n",
            "\u001b[34m\u001b[1mtrain: \u001b[0mScanning '/content/VisDrone2019-DET/VisDrone2019-DET-train/labels' images and labels... 5296 found, 0 missing, 0 empty, 3 corrupted:  82% 5296/6471 [00:03<00:00, 1584.79it/s]\u001b[34m\u001b[1mtrain: \u001b[0mWARNING: Ignoring corrupted image and/or label /content/VisDrone2019-DET/VisDrone2019-DET-train/images/9999987_00000_d_0000049.jpg: duplicate labels\n",
            "\u001b[34m\u001b[1mtrain: \u001b[0mScanning '/content/VisDrone2019-DET/VisDrone2019-DET-train/labels' images and labels... 6471 found, 0 missing, 0 empty, 4 corrupted: 100% 6471/6471 [00:04<00:00, 1579.63it/s]\n",
            "\u001b[34m\u001b[1mtrain: \u001b[0mNew cache created: /content/VisDrone2019-DET/VisDrone2019-DET-train/labels.cache\n",
            "\u001b[34m\u001b[1mval: \u001b[0mScanning '/content/VisDrone2019-DET/VisDrone2019-DET-val/labels' images and labels... 548 found, 0 missing, 0 empty, 0 corrupted: 100% 548/548 [00:00<00:00, 639.47it/s]\n",
            "\u001b[34m\u001b[1mval: \u001b[0mNew cache created: /content/VisDrone2019-DET/VisDrone2019-DET-val/labels.cache\n",
            "\n",
            "\u001b[34m\u001b[1mautoanchor: \u001b[0mAnalyzing anchors... anchors/target = 2.52, Best Possible Recall (BPR) = 0.8861. Attempting to improve anchors, please wait...\n",
            "\u001b[34m\u001b[1mautoanchor: \u001b[0mWARNING: Extremely small objects found. 29514 of 342391 labels are < 3 pixels in size.\n",
            "\u001b[34m\u001b[1mautoanchor: \u001b[0mRunning kmeans for 9 anchors on 341494 points...\n",
            "\u001b[34m\u001b[1mautoanchor: \u001b[0mthr=0.25: 0.9981 best possible recall, 5.24 anchors past thr\n",
            "\u001b[34m\u001b[1mautoanchor: \u001b[0mn=9, img_size=640, metric_all=0.339/0.726-mean/best, past_thr=0.481-mean: 5,5,  7,11,  15,9,  11,19,  28,16,  21,31,  51,28,  38,55,  90,72\n",
            "\u001b[34m\u001b[1mautoanchor: \u001b[0mEvolving anchors with Genetic Algorithm: fitness = 0.7530: 100% 1000/1000 [01:47<00:00,  9.26it/s]\n",
            "\u001b[34m\u001b[1mautoanchor: \u001b[0mthr=0.25: 0.9995 best possible recall, 5.86 anchors past thr\n",
            "\u001b[34m\u001b[1mautoanchor: \u001b[0mn=9, img_size=640, metric_all=0.369/0.752-mean/best, past_thr=0.485-mean: 3,4,  4,9,  8,7,  8,14,  16,9,  14,18,  31,17,  25,33,  58,42\n",
            "\u001b[34m\u001b[1mautoanchor: \u001b[0mNew anchors saved to model. Update model *.yaml to use these anchors in the future.\n",
            "\n",
            "Image sizes 640 train, 640 test\n",
            "Using 2 dataloader workers\n",
            "Logging results to runs/train/exp\n",
            "Starting training for 10 epochs...\n",
            "\n",
            "     Epoch   gpu_mem       box       obj       cls     total    labels  img_size\n",
            "       0/9      7.4G   0.06931   0.05406   0.02525    0.1486       135       640: 100% 809/809 [19:13<00:00,  1.43s/it]\n",
            "               Class      Images      Labels           P           R      mAP@.5  mAP@.5:.95: 100% 35/35 [00:28<00:00,  1.22it/s]\n",
            "                 all         548       38759       0.452        0.23       0.131      0.0523\n",
            "\n",
            "     Epoch   gpu_mem       box       obj       cls     total    labels  img_size\n",
            "       1/9     7.56G   0.05314    0.0671    0.0183    0.1385       232       640: 100% 809/809 [18:26<00:00,  1.37s/it]\n",
            "               Class      Images      Labels           P           R      mAP@.5  mAP@.5:.95: 100% 35/35 [00:25<00:00,  1.37it/s]\n",
            "                 all         548       38759       0.541       0.252       0.193      0.0837\n",
            "\n",
            "     Epoch   gpu_mem       box       obj       cls     total    labels  img_size\n",
            "       2/9     8.12G   0.05059   0.06869   0.01501    0.1343       309       640: 100% 809/809 [18:29<00:00,  1.37s/it]\n",
            "               Class      Images      Labels           P           R      mAP@.5  mAP@.5:.95: 100% 35/35 [00:25<00:00,  1.39it/s]\n",
            "                 all         548       38759       0.551       0.261       0.236       0.106\n",
            "\n",
            "     Epoch   gpu_mem       box       obj       cls     total    labels  img_size\n",
            "       3/9     8.94G   0.04674   0.06741   0.01234    0.1265       160       640: 100% 809/809 [18:12<00:00,  1.35s/it]\n",
            "               Class      Images      Labels           P           R      mAP@.5  mAP@.5:.95: 100% 35/35 [00:21<00:00,  1.62it/s]\n",
            "                 all         548       38759        0.59        0.31       0.301       0.154\n",
            "\n",
            "     Epoch   gpu_mem       box       obj       cls     total    labels  img_size\n",
            "       4/9     8.94G   0.04468   0.06676    0.0108    0.1222       188       640: 100% 809/809 [18:21<00:00,  1.36s/it]\n",
            "               Class      Images      Labels           P           R      mAP@.5  mAP@.5:.95: 100% 35/35 [00:25<00:00,  1.36it/s]\n",
            "                 all         548       38759        0.46       0.349       0.323       0.165\n",
            "\n",
            "     Epoch   gpu_mem       box       obj       cls     total    labels  img_size\n",
            "       5/9     8.94G   0.04302   0.06613  0.009817     0.119       275       640: 100% 809/809 [18:29<00:00,  1.37s/it]\n",
            "               Class      Images      Labels           P           R      mAP@.5  mAP@.5:.95: 100% 35/35 [00:20<00:00,  1.67it/s]\n",
            "                 all         548       38759       0.443       0.393       0.356       0.187\n",
            "\n",
            "     Epoch   gpu_mem       box       obj       cls     total    labels  img_size\n",
            "       6/9     8.94G   0.04201   0.06489  0.009024    0.1159       297       640: 100% 809/809 [18:14<00:00,  1.35s/it]\n",
            "               Class      Images      Labels           P           R      mAP@.5  mAP@.5:.95: 100% 35/35 [00:20<00:00,  1.72it/s]\n",
            "                 all         548       38759       0.471         0.4       0.372       0.197\n",
            "\n",
            "     Epoch   gpu_mem       box       obj       cls     total    labels  img_size\n",
            "       7/9     8.94G   0.04138   0.06658  0.008589    0.1165       250       640: 100% 809/809 [18:14<00:00,  1.35s/it]\n",
            "               Class      Images      Labels           P           R      mAP@.5  mAP@.5:.95: 100% 35/35 [00:22<00:00,  1.59it/s]\n",
            "                 all         548       38759       0.486        0.41       0.389        0.21\n",
            "\n",
            "     Epoch   gpu_mem       box       obj       cls     total    labels  img_size\n",
            "       8/9     8.94G   0.04073   0.06472  0.008234    0.1137        78       640: 100% 809/809 [18:15<00:00,  1.35s/it]\n",
            "               Class      Images      Labels           P           R      mAP@.5  mAP@.5:.95: 100% 35/35 [00:22<00:00,  1.57it/s]\n",
            "                 all         548       38759       0.474       0.439       0.401       0.221\n",
            "\n",
            "     Epoch   gpu_mem       box       obj       cls     total    labels  img_size\n",
            "       9/9     8.94G   0.04052   0.06453  0.008024    0.1131       189       640: 100% 809/809 [17:50<00:00,  1.32s/it]\n",
            "               Class      Images      Labels           P           R      mAP@.5  mAP@.5:.95: 100% 35/35 [00:36<00:00,  1.04s/it]\n",
            "                 all         548       38759       0.519       0.426       0.412       0.229\n",
            "          pedestrian         548        8844       0.539       0.517       0.503       0.219\n",
            "              people         548        5125       0.539       0.429       0.418       0.151\n",
            "             bicycle         548        1287       0.258       0.206       0.134      0.0537\n",
            "                 car         548       14064       0.743       0.801       0.808       0.535\n",
            "                 van         548        1975       0.469       0.473       0.438       0.292\n",
            "               truck         548         750       0.551       0.397       0.401        0.26\n",
            "            tricycle         548        1045       0.482       0.235       0.227       0.122\n",
            "     awning-tricycle         548         532       0.273       0.165       0.117      0.0743\n",
            "                 bus         548         251       0.751       0.522       0.576       0.376\n",
            "               motor         548        4886       0.583       0.509       0.503       0.203\n",
            "10 epochs completed in 3.145 hours.\n",
            "\n",
            "Optimizer stripped from runs/train/exp/weights/last.pt, 74.8MB\n",
            "Optimizer stripped from runs/train/exp/weights/best.pt, 74.8MB\n"
          ]
        }
      ]
    },
    {
      "cell_type": "code",
      "source": [
        "%cd /content/drive/MyDrive/mipt/Nir/yolov7_train/yolov7\n",
        "!python train.py --batch 8 --cfg cfg/training/yolov7.yaml --epochs 10 --data data/mydataset.yaml --weights '/content/drive/MyDrive/mipt/Nir/yolov7_train/yolov7/runs/train/exp2/weights/best.pt'"
      ],
      "metadata": {
        "id": "aFwdlRWdlW62"
      },
      "execution_count": null,
      "outputs": []
    },
    {
      "cell_type": "markdown",
      "source": [
        "Очень долго обучал. batch size = 8. Не может повышать batch size т.к GPU out of memory."
      ],
      "metadata": {
        "id": "CervcPG4Buxc"
      }
    }
  ]
}