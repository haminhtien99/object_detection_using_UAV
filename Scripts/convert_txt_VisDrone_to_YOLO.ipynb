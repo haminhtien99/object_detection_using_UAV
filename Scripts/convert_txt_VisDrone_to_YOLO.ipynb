{
 "cells": [
  {
   "cell_type": "code",
   "execution_count": 42,
   "metadata": {},
   "outputs": [],
   "source": [
    "\n",
    "\n",
    "import glob\n",
    "import os\n",
    "import pickle\n",
    "from PIL import Image\n",
    "from os import listdir, getcwd\n",
    "from os.path import join\n",
    "\n",
    "dirs = ['./VisDrone2019-DET-train', './VisDrone2019-DET-val', './VisDrone2019-DET-test-dev']\n",
    "\n",
    "def getImagesInDir(dir_path):\n",
    "    image_list = []\n",
    "    for filename in glob.glob(dir_path + '/*.jpg'):\n",
    "        image_list.append(filename)\n",
    "\n",
    "    return image_list\n",
    "\n",
    "def convert(size, box):\n",
    "    dw = 1. / size[0]\n",
    "    dh = 1. / size[1]\n",
    "    x = round( (box[0] + box[2] / 2) * dw, 6)\n",
    "    y = round((box[1] + box[3] / 2) * dh, 6)\n",
    "    w = round(box[2] * dw, 6)\n",
    "    h = round( box[3] * dh, 6)\n",
    "    return x,y ,w ,h \n",
    "\n",
    "\n",
    "\n"
   ]
  },
  {
   "cell_type": "code",
   "execution_count": 43,
   "metadata": {},
   "outputs": [],
   "source": [
    "def convert_annotation(dir_path, output_path, image_path):\n",
    "    basename = os.path.basename(image_path)\n",
    "    basename_no_ext = os.path.splitext(basename)[0]\n",
    "\n",
    "    dir_image = dir_path + '/images/' + basename_no_ext + '.jpg'\n",
    "    in_txt = open(dir_path + '/annotations/'+ basename_no_ext+'.txt', 'r')\n",
    "    out_file = open(output_path + basename_no_ext + '.txt', 'w')\n",
    "    \n",
    "    size = Image.open(dir_image).size\n",
    "\n",
    "    \n",
    "    \n",
    "    for row in [x.split(',') for x in in_txt.read().strip().splitlines()]:\n",
    "        if row[4] == '0':  # VisDrone 'ignored regions' class 0\n",
    "            continue\n",
    "        cls = int(row[5]) - 1\n",
    "        box = convert(size, tuple(map(int, row[:4])))\n",
    "        out_file.write(str(cls) + \" \" + \" \".join([str(a) for a in box]) + '\\n')"
   ]
  },
  {
   "cell_type": "code",
   "execution_count": 46,
   "metadata": {},
   "outputs": [
    {
     "name": "stdout",
     "output_type": "stream",
     "text": [
      "Finished processing: ./VisDrone2019-DET-train\n",
      "Finished processing: ./VisDrone2019-DET-val\n",
      "Finished processing: ./VisDrone2019-DET-test-dev\n"
     ]
    }
   ],
   "source": [
    "\n",
    "for dir_path in dirs:\n",
    "    image_path = dir_path +'/images/'\n",
    "    output_path = dir_path +'/annotations_yolo/'\n",
    "\n",
    "    if not os.path.exists(output_path):\n",
    "        os.makedirs(output_path)\n",
    "\n",
    "    image_paths = getImagesInDir(image_path)\n",
    "    list_file = open(dir_path + '.txt', 'w')\n",
    "\n",
    "    for image_path in image_paths:\n",
    "        list_file.write(image_path + '\\n') \n",
    "        convert_annotation(dir_path, output_path, image_path)\n",
    "    list_file.close()\n",
    "\n",
    "    print(\"Finished processing: \" + dir_path)"
   ]
  }
 ],
 "metadata": {
  "kernelspec": {
   "display_name": "Python 3",
   "language": "python",
   "name": "python3"
  },
  "language_info": {
   "codemirror_mode": {
    "name": "ipython",
    "version": 3
   },
   "file_extension": ".py",
   "mimetype": "text/x-python",
   "name": "python",
   "nbconvert_exporter": "python",
   "pygments_lexer": "ipython3",
   "version": "3.10.6"
  },
  "orig_nbformat": 4,
  "vscode": {
   "interpreter": {
    "hash": "916dbcbb3f70747c44a77c7bcd40155683ae19c65e1c03b4aa3499c5328201f1"
   }
  }
 },
 "nbformat": 4,
 "nbformat_minor": 2
}
